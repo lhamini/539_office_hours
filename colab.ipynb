{
  "cells": [
    {
      "cell_type": "markdown",
      "metadata": {
        "id": "view-in-github",
        "colab_type": "text"
      },
      "source": [
        "<a href=\"https://colab.research.google.com/github/lhamini/539_office_hours/blob/main/colab.ipynb\" target=\"_parent\"><img src=\"https://colab.research.google.com/assets/colab-badge.svg\" alt=\"Open In Colab\"/></a>"
      ]
    },
    {
      "cell_type": "markdown",
      "metadata": {
        "id": "3TomBkNVnOjP"
      },
      "source": [
        "# Colab Crash Course"
      ]
    },
    {
      "cell_type": "markdown",
      "metadata": {
        "id": "JyG45Qk3qQLS"
      },
      "source": [
        "# Cells\n",
        "A notebook is a list of cells. Cells contain either explanatory text or executable code and its output. Click a cell to select it."
      ]
    },
    {
      "cell_type": "markdown",
      "metadata": {
        "id": "KR921S_OQSHG"
      },
      "source": [
        "## Code cells\n",
        "Below is a **code cell**. Once the toolbar button indicates CONNECTED, click in the cell to select it and execute the contents in the following ways:\n",
        "\n",
        "* Click the **Play icon** in the left gutter of the cell;\n",
        "* Type **Cmd/Ctrl+Enter** to run the cell in place;\n",
        "* Type **Shift+Enter** to run the cell and move focus to the next cell (adding one if none exists); or\n",
        "* Type **Alt/Option+Enter** to run the cell and insert a new code cell immediately below it.\n",
        "\n",
        "There are additional options for running some or all cells in the **Runtime** menu.\n"
      ]
    },
    {
      "cell_type": "code",
      "execution_count": null,
      "metadata": {
        "cellView": "both",
        "id": "WUtu4316QSHL"
      },
      "outputs": [],
      "source": [
        "a = 25"
      ]
    },
    {
      "cell_type": "code",
      "execution_count": null,
      "metadata": {
        "id": "PS1qnXYfqcQE"
      },
      "outputs": [],
      "source": []
    },
    {
      "cell_type": "code",
      "execution_count": null,
      "metadata": {
        "id": "Gz2CPEi6uYjh"
      },
      "outputs": [],
      "source": [
        "# b"
      ]
    },
    {
      "cell_type": "markdown",
      "metadata": {
        "id": "Id6tDF1HQSHD"
      },
      "source": [
        "## Text cells\n",
        "\n",
        "\n",
        "\n",
        "This is a **text cell**. You can **double-click** to edit this cell. Text cells\n",
        "use markdown syntax. To learn more, see our [markdown\n",
        "guide](/notebooks/markdown_guide.ipynb).\n",
        "\n",
        "You can also add math to text cells using [LaTeX](http://www.latex-project.org/)\n",
        "to be rendered by [MathJax](https://www.mathjax.org). Just place the statement\n",
        "within a pair of **\\$** signs. For example `$\\sqrt{3x-1}+(1+x)^2$` becomes\n",
        "$\\sqrt{3x-1}+(1+x)^2.$\n"
      ]
    },
    {
      "cell_type": "markdown",
      "metadata": {
        "id": "7bqjkGKwQSHW"
      },
      "source": [
        "## Adding and moving cells\n",
        "You can add new cells by using the **+ CODE** and **+ TEXT** buttons that show when you hover between cells. These buttons are also in the toolbar above the notebook where they can be used to add a cell below the currently selected cell.\n",
        "\n",
        "You can move a cell by selecting it and clicking **Cell Up** or **Cell Down** in the top toolbar.\n",
        "\n"
      ]
    },
    {
      "cell_type": "markdown",
      "metadata": {
        "id": "ym55FgHvoyAC"
      },
      "source": [
        "## Tab-completion and exploring code\n",
        "​\n",
        "Colab provides tab completion to explore attributes of Python objects, as well as to quickly view documentation strings. As an example, first run the following cell to import the  [`numpy`](http://www.numpy.org) module."
      ]
    },
    {
      "cell_type": "code",
      "execution_count": null,
      "metadata": {
        "id": "RryWy3ejo28s"
      },
      "outputs": [],
      "source": [
        "import numpy as np"
      ]
    },
    {
      "cell_type": "markdown",
      "metadata": {
        "id": "1M890-bXeyYp"
      },
      "source": [
        "If you now insert your cursor after ``np.random.`` and press **Tab**, you will see the list of available completions within the ``np.random`` submodule."
      ]
    },
    {
      "cell_type": "code",
      "execution_count": null,
      "metadata": {
        "colab": {
          "base_uri": "https://localhost:8080/"
        },
        "id": "HlhSFpwnqiYk",
        "outputId": "fb3acb0f-29cd-4585-ef18-4dac7c49b69c"
      },
      "outputs": [
        {
          "data": {
            "text/plain": [
              "5"
            ]
          },
          "execution_count": 21,
          "metadata": {},
          "output_type": "execute_result"
        }
      ],
      "source": [
        "np.random"
      ]
    },
    {
      "cell_type": "markdown",
      "metadata": {
        "id": "g6MfomFhQSHs"
      },
      "source": [
        "If you type an open parenthesis, you will see a pop-up of its documentation string:"
      ]
    },
    {
      "cell_type": "code",
      "execution_count": null,
      "metadata": {
        "cellView": "both",
        "id": "SD0XnrVhQSHt"
      },
      "outputs": [],
      "source": [
        "np.random.randint()"
      ]
    },
    {
      "cell_type": "markdown",
      "metadata": {
        "id": "9ReRLQaxJ-zP"
      },
      "source": [
        "To open the documentation in a persistent pane at the bottom of your screen, add a **?** after the object or method name and execute the cell using **Shift+Enter**:"
      ]
    },
    {
      "cell_type": "code",
      "execution_count": null,
      "metadata": {
        "cellView": "both",
        "id": "YgQ6Tu7DK17l"
      },
      "outputs": [],
      "source": [
        "np.random.randint?"
      ]
    },
    {
      "cell_type": "markdown",
      "metadata": {
        "id": "7cRnhv_7N4Pa"
      },
      "source": [
        "## Plotting and charts"
      ]
    },
    {
      "cell_type": "code",
      "execution_count": null,
      "metadata": {
        "collapsed": true,
        "id": "JVXnTqyE9RET"
      },
      "outputs": [],
      "source": [
        "import numpy as np\n",
        "from matplotlib import pyplot as plt\n",
        "\n",
        "ys = 100 + np.random.randn(100)\n",
        "x = [x for x in range(len(ys))]\n",
        "\n",
        "plt.plot(x, ys, '-')\n",
        "\n",
        "plt.title(\"Plotting\")\n",
        "plt.show()"
      ]
    },
    {
      "cell_type": "code",
      "execution_count": null,
      "metadata": {
        "id": "xLWVhOhDu1qd"
      },
      "outputs": [],
      "source": []
    },
    {
      "cell_type": "markdown",
      "metadata": {
        "id": "_7gRpQLXQSID"
      },
      "source": [
        "## Forms\n",
        "\n",
        "Forms provide an easy way to parameterize code. From a code cell, select **Insert → Add form field**.  When you change the value in a form, the corresponding value in the code will change."
      ]
    },
    {
      "cell_type": "code",
      "execution_count": null,
      "metadata": {
        "cellView": "form",
        "colab": {
          "base_uri": "https://localhost:8080/"
        },
        "id": "3jKM6GfzlgpS",
        "outputId": "93c94ed3-6133-43a3-d3a3-5e11a48a3dd2"
      },
      "outputs": [
        {
          "name": "stdout",
          "output_type": "stream",
          "text": [
            "hi there\n",
            "2nd option\n",
            "3rd option\n"
          ]
        }
      ],
      "source": [
        "#@title String fields\n",
        "\n",
        "text = 'Hi 539 Team!' #@param {type:\"string\"}\n",
        "dropdown = 'Yes' #@param [\"Yes\", \"No\"]\n",
        "text_and_dropdown = '3rd option' #@param [\"1st option\", \"2nd option\", \"3rd option\"] {allow-input: true}\n",
        "\n",
        "print(text)\n",
        "print(dropdown)\n",
        "print(text_and_dropdown)"
      ]
    },
    {
      "cell_type": "markdown",
      "metadata": {
        "id": "kDn_lVxg3Z2G"
      },
      "source": [
        "## Importing a library that is not in Colaboratory\n",
        "\n",
        "To import a library that's not in Colaboratory by default, you can use `!pip install` or `!apt-get install`."
      ]
    },
    {
      "cell_type": "code",
      "execution_count": null,
      "metadata": {
        "id": "GQ18Kd5F3uKe"
      },
      "outputs": [],
      "source": [
        "!pip install -q matplotlib-venn"
      ]
    },
    {
      "cell_type": "markdown",
      "metadata": {
        "id": "Wej_mEyXQSHc"
      },
      "source": [
        "## System aliases\n",
        "\n",
        "Jupyter includes shortcuts for common operations, such as ls:"
      ]
    },
    {
      "cell_type": "code",
      "execution_count": null,
      "metadata": {
        "id": "faAvwCivrFhF"
      },
      "outputs": [],
      "source": [
        "!pwd"
      ]
    },
    {
      "cell_type": "code",
      "execution_count": null,
      "metadata": {
        "colab": {
          "base_uri": "https://localhost:8080/",
          "height": 35
        },
        "id": "YSTHm-7igJm9",
        "outputId": "2a4c8684-3489-49e9-d291-e83b7fd406c1"
      },
      "outputs": [
        {
          "data": {
            "application/vnd.google.colaboratory.intrinsic+json": {
              "type": "string"
            },
            "text/plain": [
              "'/content'"
            ]
          },
          "execution_count": 12,
          "metadata": {},
          "output_type": "execute_result"
        }
      ],
      "source": [
        "pwd"
      ]
    },
    {
      "cell_type": "code",
      "execution_count": null,
      "metadata": {
        "cellView": "both",
        "collapsed": true,
        "id": "5OCYEvK5QSHf"
      },
      "outputs": [],
      "source": [
        "!ls /bin"
      ]
    },
    {
      "cell_type": "code",
      "execution_count": null,
      "metadata": {
        "colab": {
          "base_uri": "https://localhost:8080/"
        },
        "id": "-YzJMOFkgKyI",
        "outputId": "b1a01e1f-1f03-417b-d6b1-873764f6a7db"
      },
      "outputs": [
        {
          "name": "stdout",
          "output_type": "stream",
          "text": [
            "\u001b[0m\u001b[01;34msample_data\u001b[0m/\n"
          ]
        }
      ],
      "source": [
        "ls /content/"
      ]
    },
    {
      "cell_type": "code",
      "execution_count": null,
      "metadata": {
        "id": "33MkBEZ-d0fj"
      },
      "outputs": [],
      "source": [
        "# nvidia-smi"
      ]
    },
    {
      "cell_type": "code",
      "execution_count": null,
      "metadata": {
        "colab": {
          "base_uri": "https://localhost:8080/"
        },
        "id": "iMVuh-HdKfWc",
        "outputId": "167d5040-2227-4afb-e961-2773946a4de8"
      },
      "outputs": [
        {
          "name": "stdout",
          "output_type": "stream",
          "text": [
            "/bin/bash: line 1: nvidia-smi: command not found\n"
          ]
        }
      ],
      "source": [
        "!nvidia-smi"
      ]
    },
    {
      "cell_type": "markdown",
      "metadata": {
        "id": "y8Da6JWKQSHh"
      },
      "source": [
        "That `!ls` probably generated a large output. You can select the cell and clear the output by either:\n",
        "\n",
        "1. Clicking on the clear output button (x) in the toolbar above the cell; or\n",
        "2. Right clicking the left gutter of the output area and selecting \"Clear output\" from the context menu.\n"
      ]
    },
    {
      "cell_type": "markdown",
      "metadata": {
        "id": "aro-UJgUQSH1"
      },
      "source": [
        "# Integration with Drive\n",
        "\n",
        "Colaboratory is integrated with Google Drive. It allows you to share, comment, and collaborate on the same document with multiple people:\n",
        "\n",
        "* The **SHARE** button (top-right of the toolbar) allows you to share the notebook and control permissions set on it.\n",
        "\n",
        "* **File->Make a Copy** creates a copy of the notebook in Drive.\n",
        "\n",
        "* **File->Save** saves the File to Drive. **File->Save and checkpoint** pins the version so it doesn't get deleted from the revision history.\n",
        "\n",
        "* **File->Revision history** shows the notebook's revision history."
      ]
    },
    {
      "cell_type": "code",
      "execution_count": null,
      "metadata": {
        "colab": {
          "base_uri": "https://localhost:8080/"
        },
        "id": "sDm24qz-OddY",
        "outputId": "ae4f0464-451a-42f3-e798-932f95686f53"
      },
      "outputs": [
        {
          "name": "stdout",
          "output_type": "stream",
          "text": [
            "Mounted at /content/gdrive\n"
          ]
        }
      ],
      "source": [
        "from google.colab import drive\n",
        "drive.mount('/content/gdrive')"
      ]
    },
    {
      "cell_type": "code",
      "execution_count": null,
      "metadata": {
        "colab": {
          "base_uri": "https://localhost:8080/"
        },
        "id": "9gRIZJxVOddA",
        "outputId": "9679cb51-3f7d-4d1a-de00-ea6aa95e1eec"
      },
      "outputs": [
        {
          "name": "stdout",
          "output_type": "stream",
          "text": [
            "\u001b[0m\u001b[01;34mgdrive\u001b[0m/  \u001b[01;34msample_data\u001b[0m/\n"
          ]
        }
      ],
      "source": [
        "ls"
      ]
    },
    {
      "cell_type": "code",
      "execution_count": null,
      "metadata": {
        "colab": {
          "base_uri": "https://localhost:8080/"
        },
        "id": "eHH4-722cSjO",
        "outputId": "e769321e-e7fd-46b0-bd23-d3e77343094b"
      },
      "outputs": [
        {
          "name": "stdout",
          "output_type": "stream",
          "text": [
            "539_OH.pptx  teams.gsheet\n"
          ]
        }
      ],
      "source": [
        "ls \"gdrive/MyDrive/539 - Milestone i\""
      ]
    },
    {
      "cell_type": "markdown",
      "metadata": {
        "id": "7CUZW3mXoK11"
      },
      "source": [
        "## Magics\n",
        "\n",
        "Special commands that allow you to run special tasks\n",
        "\n",
        "https://nbviewer.jupyter.org/github/ipython/ipython/blob/1.x/examples/notebooks/Cell%20Magics.ipynb"
      ]
    },
    {
      "cell_type": "code",
      "execution_count": null,
      "metadata": {
        "colab": {
          "base_uri": "https://localhost:8080/",
          "height": 38
        },
        "id": "B8cda3KnoCuG",
        "outputId": "b9172750-09c7-44fa-d82b-ef873bab5c8c"
      },
      "outputs": [
        {
          "data": {
            "text/html": [
              "<marquee style='width: 50%; color: red;'><b>539 Office Hours</b></marquee>\n"
            ],
            "text/plain": [
              "<IPython.core.display.HTML object>"
            ]
          },
          "metadata": {},
          "output_type": "display_data"
        }
      ],
      "source": [
        "%%html\n",
        "<marquee style='width: 50%; color: red;'><b>539 Office Hours</b></marquee>"
      ]
    },
    {
      "cell_type": "code",
      "execution_count": null,
      "metadata": {
        "colab": {
          "base_uri": "https://localhost:8080/",
          "height": 260
        },
        "id": "50RzjdahoYyd",
        "outputId": "9e32a401-0fe0-47cf-c050-8f8d8ffef8e3"
      },
      "outputs": [
        {
          "data": {
            "application/json": {
              "cell": {
                "!": "OSMagics",
                "HTML": "Other",
                "SVG": "Other",
                "bash": "Other",
                "bigquery": "Other",
                "capture": "ExecutionMagics",
                "debug": "ExecutionMagics",
                "file": "Other",
                "html": "DisplayMagics",
                "javascript": "DisplayMagics",
                "js": "DisplayMagics",
                "latex": "DisplayMagics",
                "markdown": "DisplayMagics",
                "perl": "Other",
                "prun": "ExecutionMagics",
                "pypy": "Other",
                "python": "Other",
                "python2": "Other",
                "python3": "Other",
                "ruby": "Other",
                "script": "ScriptMagics",
                "sh": "Other",
                "shell": "Other",
                "svg": "DisplayMagics",
                "sx": "OSMagics",
                "system": "OSMagics",
                "time": "ExecutionMagics",
                "timeit": "ExecutionMagics",
                "writefile": "OSMagics"
              },
              "line": {
                "alias": "OSMagics",
                "alias_magic": "BasicMagics",
                "autoawait": "AsyncMagics",
                "autocall": "AutoMagics",
                "automagic": "AutoMagics",
                "autosave": "KernelMagics",
                "bookmark": "OSMagics",
                "cat": "Other",
                "cd": "OSMagics",
                "clear": "KernelMagics",
                "colors": "BasicMagics",
                "conda": "PackagingMagics",
                "config": "ConfigMagics",
                "connect_info": "KernelMagics",
                "cp": "Other",
                "debug": "ExecutionMagics",
                "dhist": "OSMagics",
                "dirs": "OSMagics",
                "doctest_mode": "BasicMagics",
                "ed": "Other",
                "edit": "KernelMagics",
                "env": "OSMagics",
                "gui": "BasicMagics",
                "hist": "Other",
                "history": "HistoryMagics",
                "killbgscripts": "ScriptMagics",
                "ldir": "Other",
                "less": "KernelMagics",
                "lf": "Other",
                "lk": "Other",
                "ll": "Other",
                "load": "CodeMagics",
                "load_ext": "ExtensionMagics",
                "loadpy": "CodeMagics",
                "logoff": "LoggingMagics",
                "logon": "LoggingMagics",
                "logstart": "LoggingMagics",
                "logstate": "LoggingMagics",
                "logstop": "LoggingMagics",
                "ls": "Other",
                "lsmagic": "BasicMagics",
                "lx": "Other",
                "macro": "ExecutionMagics",
                "magic": "BasicMagics",
                "man": "KernelMagics",
                "matplotlib": "PylabMagics",
                "mkdir": "Other",
                "more": "KernelMagics",
                "mv": "Other",
                "notebook": "BasicMagics",
                "page": "BasicMagics",
                "pastebin": "CodeMagics",
                "pdb": "ExecutionMagics",
                "pdef": "NamespaceMagics",
                "pdoc": "NamespaceMagics",
                "pfile": "NamespaceMagics",
                "pinfo": "NamespaceMagics",
                "pinfo2": "NamespaceMagics",
                "pip": "Other",
                "popd": "OSMagics",
                "pprint": "BasicMagics",
                "precision": "BasicMagics",
                "prun": "ExecutionMagics",
                "psearch": "NamespaceMagics",
                "psource": "NamespaceMagics",
                "pushd": "OSMagics",
                "pwd": "OSMagics",
                "pycat": "OSMagics",
                "pylab": "PylabMagics",
                "qtconsole": "KernelMagics",
                "quickref": "BasicMagics",
                "recall": "HistoryMagics",
                "rehashx": "OSMagics",
                "reload_ext": "ExtensionMagics",
                "rep": "Other",
                "rerun": "HistoryMagics",
                "reset": "NamespaceMagics",
                "reset_selective": "NamespaceMagics",
                "rm": "Other",
                "rmdir": "Other",
                "run": "ExecutionMagics",
                "save": "CodeMagics",
                "sc": "OSMagics",
                "set_env": "OSMagics",
                "shell": "Other",
                "store": "StoreMagics",
                "sx": "OSMagics",
                "system": "OSMagics",
                "tb": "ExecutionMagics",
                "tensorflow_version": "Other",
                "time": "ExecutionMagics",
                "timeit": "ExecutionMagics",
                "unalias": "OSMagics",
                "unload_ext": "ExtensionMagics",
                "who": "NamespaceMagics",
                "who_ls": "NamespaceMagics",
                "whos": "NamespaceMagics",
                "xdel": "NamespaceMagics",
                "xmode": "BasicMagics"
              }
            },
            "text/plain": [
              "Available line magics:\n",
              "%alias  %alias_magic  %autoawait  %autocall  %automagic  %autosave  %bookmark  %cat  %cd  %clear  %colors  %conda  %config  %connect_info  %cp  %debug  %dhist  %dirs  %doctest_mode  %ed  %edit  %env  %gui  %hist  %history  %killbgscripts  %ldir  %less  %lf  %lk  %ll  %load  %load_ext  %loadpy  %logoff  %logon  %logstart  %logstate  %logstop  %ls  %lsmagic  %lx  %macro  %magic  %man  %matplotlib  %mkdir  %more  %mv  %notebook  %page  %pastebin  %pdb  %pdef  %pdoc  %pfile  %pinfo  %pinfo2  %pip  %popd  %pprint  %precision  %prun  %psearch  %psource  %pushd  %pwd  %pycat  %pylab  %qtconsole  %quickref  %recall  %rehashx  %reload_ext  %rep  %rerun  %reset  %reset_selective  %rm  %rmdir  %run  %save  %sc  %set_env  %shell  %store  %sx  %system  %tb  %tensorflow_version  %time  %timeit  %unalias  %unload_ext  %who  %who_ls  %whos  %xdel  %xmode\n",
              "\n",
              "Available cell magics:\n",
              "%%!  %%HTML  %%SVG  %%bash  %%bigquery  %%capture  %%debug  %%file  %%html  %%javascript  %%js  %%latex  %%markdown  %%perl  %%prun  %%pypy  %%python  %%python2  %%python3  %%ruby  %%script  %%sh  %%shell  %%svg  %%sx  %%system  %%time  %%timeit  %%writefile\n",
              "\n",
              "Automagic is ON, % prefix IS NOT needed for line magics."
            ]
          },
          "execution_count": 28,
          "metadata": {},
          "output_type": "execute_result"
        }
      ],
      "source": [
        "%lsmagic"
      ]
    },
    {
      "cell_type": "markdown",
      "metadata": {
        "id": "bjezBhAhq4JL"
      },
      "source": [
        "### Timing code"
      ]
    },
    {
      "cell_type": "code",
      "execution_count": null,
      "metadata": {
        "colab": {
          "base_uri": "https://localhost:8080/"
        },
        "id": "lUMw1LGjqkLc",
        "outputId": "c9f2915a-9729-4bdc-94a0-a17f324214dc"
      },
      "outputs": [
        {
          "name": "stdout",
          "output_type": "stream",
          "text": [
            "13.2 ms ± 3.8 ms per loop (mean ± std. dev. of 7 runs, 100 loops each)\n"
          ]
        }
      ],
      "source": [
        "# Line\n",
        "import numpy as np\n",
        "\n",
        "%timeit np.linalg.eigvals(np.random.rand(100,100))"
      ]
    },
    {
      "cell_type": "code",
      "execution_count": null,
      "metadata": {
        "colab": {
          "base_uri": "https://localhost:8080/"
        },
        "id": "G3c1GSYEq6c4",
        "outputId": "def1ccdf-3c4b-434e-838a-256f4fc5537e"
      },
      "outputs": [
        {
          "name": "stdout",
          "output_type": "stream",
          "text": [
            "CPU times: user 1.31 s, sys: 0 ns, total: 1.31 s\n",
            "Wall time: 1.32 s\n"
          ]
        }
      ],
      "source": [
        "# Cell\n",
        "%%time\n",
        "a = 0\n",
        "for i in range(10000000):\n",
        "  a += i"
      ]
    },
    {
      "cell_type": "markdown",
      "metadata": {
        "id": "Ccmhb79Ndm-G"
      },
      "source": [
        "Groq or gemeni Secret"
      ]
    },
    {
      "cell_type": "code",
      "execution_count": null,
      "metadata": {
        "id": "sng5eIpmkTOb"
      },
      "outputs": [],
      "source": [
        "#!pip install langchain_groq\n"
      ]
    },
    {
      "cell_type": "code",
      "execution_count": null,
      "metadata": {
        "id": "3kQyUZ3iBQo9"
      },
      "outputs": [],
      "source": [
        "from langchain_groq import ChatGroq\n",
        "from google.colab import userdata\n",
        "\n",
        "llm = ChatGroq(\n",
        "    groq_api_key=userdata.get('GROQ_API_KEY'),\n",
        "    model_name='llama3-70b-8192')"
      ]
    },
    {
      "cell_type": "code",
      "execution_count": null,
      "metadata": {
        "id": "P4UBiTBdl0YN"
      },
      "outputs": [],
      "source": [
        "llm.invoke('List best practices to start a EDA project')"
      ]
    },
    {
      "cell_type": "markdown",
      "metadata": {
        "id": "uz1f9pCieKsl"
      },
      "source": [
        "## pages\n",
        "\n",
        "\n",
        "\n",
        "\n",
        "\n",
        "*   colab.google\n",
        "*   colab.research.google.com\n",
        "\n",
        "\n",
        "\n",
        "\n",
        "\n",
        "https://colab.research.google.com/github/Tanu-N-Prabhu/Python/blob/master/Exploratory_data_Analysis.ipynb"
      ]
    },
    {
      "cell_type": "markdown",
      "metadata": {
        "id": "gy4Rc69nefv9"
      },
      "source": [
        "## dataset search\n",
        "\n",
        "https://datasetsearch.research.google.com/"
      ]
    },
    {
      "cell_type": "code",
      "execution_count": 2,
      "metadata": {
        "id": "Tt4WenKQmh3w",
        "colab": {
          "base_uri": "https://localhost:8080/"
        },
        "collapsed": true,
        "outputId": "963e054b-2b49-4a28-f4c2-fe0f51047487"
      },
      "outputs": [
        {
          "output_type": "stream",
          "name": "stdout",
          "text": [
            "Collecting opendatasets\n",
            "  Downloading opendatasets-0.1.22-py3-none-any.whl (15 kB)\n",
            "Requirement already satisfied: tqdm in /usr/local/lib/python3.10/dist-packages (from opendatasets) (4.66.4)\n",
            "Requirement already satisfied: kaggle in /usr/local/lib/python3.10/dist-packages (from opendatasets) (1.6.14)\n",
            "Requirement already satisfied: click in /usr/local/lib/python3.10/dist-packages (from opendatasets) (8.1.7)\n",
            "Requirement already satisfied: six>=1.10 in /usr/local/lib/python3.10/dist-packages (from kaggle->opendatasets) (1.16.0)\n",
            "Requirement already satisfied: certifi>=2023.7.22 in /usr/local/lib/python3.10/dist-packages (from kaggle->opendatasets) (2024.2.2)\n",
            "Requirement already satisfied: python-dateutil in /usr/local/lib/python3.10/dist-packages (from kaggle->opendatasets) (2.8.2)\n",
            "Requirement already satisfied: requests in /usr/local/lib/python3.10/dist-packages (from kaggle->opendatasets) (2.31.0)\n",
            "Requirement already satisfied: python-slugify in /usr/local/lib/python3.10/dist-packages (from kaggle->opendatasets) (8.0.4)\n",
            "Requirement already satisfied: urllib3 in /usr/local/lib/python3.10/dist-packages (from kaggle->opendatasets) (2.0.7)\n",
            "Requirement already satisfied: bleach in /usr/local/lib/python3.10/dist-packages (from kaggle->opendatasets) (6.1.0)\n",
            "Requirement already satisfied: webencodings in /usr/local/lib/python3.10/dist-packages (from bleach->kaggle->opendatasets) (0.5.1)\n",
            "Requirement already satisfied: text-unidecode>=1.3 in /usr/local/lib/python3.10/dist-packages (from python-slugify->kaggle->opendatasets) (1.3)\n",
            "Requirement already satisfied: charset-normalizer<4,>=2 in /usr/local/lib/python3.10/dist-packages (from requests->kaggle->opendatasets) (3.3.2)\n",
            "Requirement already satisfied: idna<4,>=2.5 in /usr/local/lib/python3.10/dist-packages (from requests->kaggle->opendatasets) (3.7)\n",
            "Installing collected packages: opendatasets\n",
            "Successfully installed opendatasets-0.1.22\n"
          ]
        }
      ],
      "source": [
        "#!pip install opendatasets"
      ]
    },
    {
      "cell_type": "code",
      "execution_count": 3,
      "metadata": {
        "colab": {
          "base_uri": "https://localhost:8080/"
        },
        "id": "a8dgbDtPeGkL",
        "outputId": "bd9c4c5c-3a53-4bb8-d1f5-ad6a729f0c7d"
      },
      "outputs": [
        {
          "output_type": "stream",
          "name": "stdout",
          "text": [
            "Please provide your Kaggle credentials to download this dataset. Learn more: http://bit.ly/kaggle-creds\n",
            "Your Kaggle username: eamini\n",
            "Your Kaggle Key: ··········\n",
            "Dataset URL: https://www.kaggle.com/datasets/tunguz/us-elections-dataset\n",
            "Downloading us-elections-dataset.zip to ./us-elections-dataset\n"
          ]
        },
        {
          "output_type": "stream",
          "name": "stderr",
          "text": [
            "100%|██████████| 133k/133k [00:00<00:00, 36.7MB/s]"
          ]
        },
        {
          "output_type": "stream",
          "name": "stdout",
          "text": [
            "\n"
          ]
        },
        {
          "output_type": "stream",
          "name": "stderr",
          "text": [
            "\n"
          ]
        }
      ],
      "source": [
        "import opendatasets as od\n",
        "\n",
        "\n",
        "# List all datasets\n",
        "dataset_url = \"https://www.kaggle.com/tunguz/us-elections-dataset\"\n",
        "od.download(dataset_url)"
      ]
    },
    {
      "cell_type": "markdown",
      "metadata": {
        "id": "aa1BN7ZmeDQ4"
      },
      "source": [
        "## Auto Plot and Tables"
      ]
    },
    {
      "cell_type": "code",
      "source": [
        "import pandas as pd\n",
        "df = pd.read_csv(\"us-elections-dataset/1976-2020-president.csv\", nrows=20)\n",
        "df"
      ],
      "metadata": {
        "colab": {
          "base_uri": "https://localhost:8080/",
          "height": 1000
        },
        "id": "6vWHbV85AJx2",
        "outputId": "d53471ba-3602-48c9-c1aa-79f680fa1d15"
      },
      "execution_count": 12,
      "outputs": [
        {
          "output_type": "execute_result",
          "data": {
            "text/plain": [
              "    year     state state_po  state_fips  state_cen  state_ic        office  \\\n",
              "0   1976   ALABAMA       AL           1         63        41  US PRESIDENT   \n",
              "1   1976   ALABAMA       AL           1         63        41  US PRESIDENT   \n",
              "2   1976   ALABAMA       AL           1         63        41  US PRESIDENT   \n",
              "3   1976   ALABAMA       AL           1         63        41  US PRESIDENT   \n",
              "4   1976   ALABAMA       AL           1         63        41  US PRESIDENT   \n",
              "5   1976   ALABAMA       AL           1         63        41  US PRESIDENT   \n",
              "6   1976   ALABAMA       AL           1         63        41  US PRESIDENT   \n",
              "7   1976    ALASKA       AK           2         94        81  US PRESIDENT   \n",
              "8   1976    ALASKA       AK           2         94        81  US PRESIDENT   \n",
              "9   1976    ALASKA       AK           2         94        81  US PRESIDENT   \n",
              "10  1976    ALASKA       AK           2         94        81  US PRESIDENT   \n",
              "11  1976   ARIZONA       AZ           4         86        61  US PRESIDENT   \n",
              "12  1976   ARIZONA       AZ           4         86        61  US PRESIDENT   \n",
              "13  1976   ARIZONA       AZ           4         86        61  US PRESIDENT   \n",
              "14  1976   ARIZONA       AZ           4         86        61  US PRESIDENT   \n",
              "15  1976   ARIZONA       AZ           4         86        61  US PRESIDENT   \n",
              "16  1976   ARIZONA       AZ           4         86        61  US PRESIDENT   \n",
              "17  1976   ARIZONA       AZ           4         86        61  US PRESIDENT   \n",
              "18  1976   ARIZONA       AZ           4         86        61  US PRESIDENT   \n",
              "19  1976  ARKANSAS       AR           5         71        42  US PRESIDENT   \n",
              "\n",
              "                    candidate              party_detailed  writein  \\\n",
              "0               CARTER, JIMMY                    DEMOCRAT    False   \n",
              "1                FORD, GERALD                  REPUBLICAN    False   \n",
              "2              MADDOX, LESTER  AMERICAN INDEPENDENT PARTY    False   \n",
              "3     BUBAR, BENJAMIN \"\"BEN\"\"                 PROHIBITION    False   \n",
              "4                   HALL, GUS         COMMUNIST PARTY USE    False   \n",
              "5             MACBRIDE, ROGER                 LIBERTARIAN    False   \n",
              "6                         NaN                         NaN     True   \n",
              "7                FORD, GERALD                  REPUBLICAN    False   \n",
              "8               CARTER, JIMMY                    DEMOCRAT    False   \n",
              "9             MACBRIDE, ROGER                 LIBERTARIAN    False   \n",
              "10                        NaN                         NaN     True   \n",
              "11               FORD, GERALD                  REPUBLICAN    False   \n",
              "12              CARTER, JIMMY                    DEMOCRAT    False   \n",
              "13  MCCARTHY, EUGENE \"\"GENE\"\"                 INDEPENDENT    False   \n",
              "14            MACBRIDE, ROGER                 LIBERTARIAN    False   \n",
              "15              CAMEJO, PETER           SOCIALIST WORKERS    False   \n",
              "16        ANDERSON, THOMAS J.                    AMERICAN    False   \n",
              "17             MADDOX, LESTER  AMERICAN INDEPENDENT PARTY    False   \n",
              "18                        NaN                         NaN     True   \n",
              "19              CARTER, JIMMY                    DEMOCRAT    False   \n",
              "\n",
              "    candidatevotes  totalvotes   version  notes party_simplified  \n",
              "0           659170     1182850  20210113    NaN         DEMOCRAT  \n",
              "1           504070     1182850  20210113    NaN       REPUBLICAN  \n",
              "2             9198     1182850  20210113    NaN            OTHER  \n",
              "3             6669     1182850  20210113    NaN            OTHER  \n",
              "4             1954     1182850  20210113    NaN            OTHER  \n",
              "5             1481     1182850  20210113    NaN      LIBERTARIAN  \n",
              "6              308     1182850  20210113    NaN            OTHER  \n",
              "7            71555      123574  20210113    NaN       REPUBLICAN  \n",
              "8            44058      123574  20210113    NaN         DEMOCRAT  \n",
              "9             6785      123574  20210113    NaN      LIBERTARIAN  \n",
              "10            1176      123574  20210113    NaN            OTHER  \n",
              "11          418642      742719  20210113    NaN       REPUBLICAN  \n",
              "12          295602      742719  20210113    NaN         DEMOCRAT  \n",
              "13           19229      742719  20210113    NaN            OTHER  \n",
              "14            7647      742719  20210113    NaN      LIBERTARIAN  \n",
              "15             928      742719  20210113    NaN            OTHER  \n",
              "16             564      742719  20210113    NaN            OTHER  \n",
              "17              85      742719  20210113    NaN            OTHER  \n",
              "18              22      742719  20210113    NaN            OTHER  \n",
              "19          498604      767535  20210113    NaN         DEMOCRAT  "
            ],
            "text/html": [
              "\n",
              "  <div id=\"df-2e905ce6-c42a-40d8-876f-bcc4c3a02bff\" class=\"colab-df-container\">\n",
              "    <div>\n",
              "<style scoped>\n",
              "    .dataframe tbody tr th:only-of-type {\n",
              "        vertical-align: middle;\n",
              "    }\n",
              "\n",
              "    .dataframe tbody tr th {\n",
              "        vertical-align: top;\n",
              "    }\n",
              "\n",
              "    .dataframe thead th {\n",
              "        text-align: right;\n",
              "    }\n",
              "</style>\n",
              "<table border=\"1\" class=\"dataframe\">\n",
              "  <thead>\n",
              "    <tr style=\"text-align: right;\">\n",
              "      <th></th>\n",
              "      <th>year</th>\n",
              "      <th>state</th>\n",
              "      <th>state_po</th>\n",
              "      <th>state_fips</th>\n",
              "      <th>state_cen</th>\n",
              "      <th>state_ic</th>\n",
              "      <th>office</th>\n",
              "      <th>candidate</th>\n",
              "      <th>party_detailed</th>\n",
              "      <th>writein</th>\n",
              "      <th>candidatevotes</th>\n",
              "      <th>totalvotes</th>\n",
              "      <th>version</th>\n",
              "      <th>notes</th>\n",
              "      <th>party_simplified</th>\n",
              "    </tr>\n",
              "  </thead>\n",
              "  <tbody>\n",
              "    <tr>\n",
              "      <th>0</th>\n",
              "      <td>1976</td>\n",
              "      <td>ALABAMA</td>\n",
              "      <td>AL</td>\n",
              "      <td>1</td>\n",
              "      <td>63</td>\n",
              "      <td>41</td>\n",
              "      <td>US PRESIDENT</td>\n",
              "      <td>CARTER, JIMMY</td>\n",
              "      <td>DEMOCRAT</td>\n",
              "      <td>False</td>\n",
              "      <td>659170</td>\n",
              "      <td>1182850</td>\n",
              "      <td>20210113</td>\n",
              "      <td>NaN</td>\n",
              "      <td>DEMOCRAT</td>\n",
              "    </tr>\n",
              "    <tr>\n",
              "      <th>1</th>\n",
              "      <td>1976</td>\n",
              "      <td>ALABAMA</td>\n",
              "      <td>AL</td>\n",
              "      <td>1</td>\n",
              "      <td>63</td>\n",
              "      <td>41</td>\n",
              "      <td>US PRESIDENT</td>\n",
              "      <td>FORD, GERALD</td>\n",
              "      <td>REPUBLICAN</td>\n",
              "      <td>False</td>\n",
              "      <td>504070</td>\n",
              "      <td>1182850</td>\n",
              "      <td>20210113</td>\n",
              "      <td>NaN</td>\n",
              "      <td>REPUBLICAN</td>\n",
              "    </tr>\n",
              "    <tr>\n",
              "      <th>2</th>\n",
              "      <td>1976</td>\n",
              "      <td>ALABAMA</td>\n",
              "      <td>AL</td>\n",
              "      <td>1</td>\n",
              "      <td>63</td>\n",
              "      <td>41</td>\n",
              "      <td>US PRESIDENT</td>\n",
              "      <td>MADDOX, LESTER</td>\n",
              "      <td>AMERICAN INDEPENDENT PARTY</td>\n",
              "      <td>False</td>\n",
              "      <td>9198</td>\n",
              "      <td>1182850</td>\n",
              "      <td>20210113</td>\n",
              "      <td>NaN</td>\n",
              "      <td>OTHER</td>\n",
              "    </tr>\n",
              "    <tr>\n",
              "      <th>3</th>\n",
              "      <td>1976</td>\n",
              "      <td>ALABAMA</td>\n",
              "      <td>AL</td>\n",
              "      <td>1</td>\n",
              "      <td>63</td>\n",
              "      <td>41</td>\n",
              "      <td>US PRESIDENT</td>\n",
              "      <td>BUBAR, BENJAMIN \"\"BEN\"\"</td>\n",
              "      <td>PROHIBITION</td>\n",
              "      <td>False</td>\n",
              "      <td>6669</td>\n",
              "      <td>1182850</td>\n",
              "      <td>20210113</td>\n",
              "      <td>NaN</td>\n",
              "      <td>OTHER</td>\n",
              "    </tr>\n",
              "    <tr>\n",
              "      <th>4</th>\n",
              "      <td>1976</td>\n",
              "      <td>ALABAMA</td>\n",
              "      <td>AL</td>\n",
              "      <td>1</td>\n",
              "      <td>63</td>\n",
              "      <td>41</td>\n",
              "      <td>US PRESIDENT</td>\n",
              "      <td>HALL, GUS</td>\n",
              "      <td>COMMUNIST PARTY USE</td>\n",
              "      <td>False</td>\n",
              "      <td>1954</td>\n",
              "      <td>1182850</td>\n",
              "      <td>20210113</td>\n",
              "      <td>NaN</td>\n",
              "      <td>OTHER</td>\n",
              "    </tr>\n",
              "    <tr>\n",
              "      <th>5</th>\n",
              "      <td>1976</td>\n",
              "      <td>ALABAMA</td>\n",
              "      <td>AL</td>\n",
              "      <td>1</td>\n",
              "      <td>63</td>\n",
              "      <td>41</td>\n",
              "      <td>US PRESIDENT</td>\n",
              "      <td>MACBRIDE, ROGER</td>\n",
              "      <td>LIBERTARIAN</td>\n",
              "      <td>False</td>\n",
              "      <td>1481</td>\n",
              "      <td>1182850</td>\n",
              "      <td>20210113</td>\n",
              "      <td>NaN</td>\n",
              "      <td>LIBERTARIAN</td>\n",
              "    </tr>\n",
              "    <tr>\n",
              "      <th>6</th>\n",
              "      <td>1976</td>\n",
              "      <td>ALABAMA</td>\n",
              "      <td>AL</td>\n",
              "      <td>1</td>\n",
              "      <td>63</td>\n",
              "      <td>41</td>\n",
              "      <td>US PRESIDENT</td>\n",
              "      <td>NaN</td>\n",
              "      <td>NaN</td>\n",
              "      <td>True</td>\n",
              "      <td>308</td>\n",
              "      <td>1182850</td>\n",
              "      <td>20210113</td>\n",
              "      <td>NaN</td>\n",
              "      <td>OTHER</td>\n",
              "    </tr>\n",
              "    <tr>\n",
              "      <th>7</th>\n",
              "      <td>1976</td>\n",
              "      <td>ALASKA</td>\n",
              "      <td>AK</td>\n",
              "      <td>2</td>\n",
              "      <td>94</td>\n",
              "      <td>81</td>\n",
              "      <td>US PRESIDENT</td>\n",
              "      <td>FORD, GERALD</td>\n",
              "      <td>REPUBLICAN</td>\n",
              "      <td>False</td>\n",
              "      <td>71555</td>\n",
              "      <td>123574</td>\n",
              "      <td>20210113</td>\n",
              "      <td>NaN</td>\n",
              "      <td>REPUBLICAN</td>\n",
              "    </tr>\n",
              "    <tr>\n",
              "      <th>8</th>\n",
              "      <td>1976</td>\n",
              "      <td>ALASKA</td>\n",
              "      <td>AK</td>\n",
              "      <td>2</td>\n",
              "      <td>94</td>\n",
              "      <td>81</td>\n",
              "      <td>US PRESIDENT</td>\n",
              "      <td>CARTER, JIMMY</td>\n",
              "      <td>DEMOCRAT</td>\n",
              "      <td>False</td>\n",
              "      <td>44058</td>\n",
              "      <td>123574</td>\n",
              "      <td>20210113</td>\n",
              "      <td>NaN</td>\n",
              "      <td>DEMOCRAT</td>\n",
              "    </tr>\n",
              "    <tr>\n",
              "      <th>9</th>\n",
              "      <td>1976</td>\n",
              "      <td>ALASKA</td>\n",
              "      <td>AK</td>\n",
              "      <td>2</td>\n",
              "      <td>94</td>\n",
              "      <td>81</td>\n",
              "      <td>US PRESIDENT</td>\n",
              "      <td>MACBRIDE, ROGER</td>\n",
              "      <td>LIBERTARIAN</td>\n",
              "      <td>False</td>\n",
              "      <td>6785</td>\n",
              "      <td>123574</td>\n",
              "      <td>20210113</td>\n",
              "      <td>NaN</td>\n",
              "      <td>LIBERTARIAN</td>\n",
              "    </tr>\n",
              "    <tr>\n",
              "      <th>10</th>\n",
              "      <td>1976</td>\n",
              "      <td>ALASKA</td>\n",
              "      <td>AK</td>\n",
              "      <td>2</td>\n",
              "      <td>94</td>\n",
              "      <td>81</td>\n",
              "      <td>US PRESIDENT</td>\n",
              "      <td>NaN</td>\n",
              "      <td>NaN</td>\n",
              "      <td>True</td>\n",
              "      <td>1176</td>\n",
              "      <td>123574</td>\n",
              "      <td>20210113</td>\n",
              "      <td>NaN</td>\n",
              "      <td>OTHER</td>\n",
              "    </tr>\n",
              "    <tr>\n",
              "      <th>11</th>\n",
              "      <td>1976</td>\n",
              "      <td>ARIZONA</td>\n",
              "      <td>AZ</td>\n",
              "      <td>4</td>\n",
              "      <td>86</td>\n",
              "      <td>61</td>\n",
              "      <td>US PRESIDENT</td>\n",
              "      <td>FORD, GERALD</td>\n",
              "      <td>REPUBLICAN</td>\n",
              "      <td>False</td>\n",
              "      <td>418642</td>\n",
              "      <td>742719</td>\n",
              "      <td>20210113</td>\n",
              "      <td>NaN</td>\n",
              "      <td>REPUBLICAN</td>\n",
              "    </tr>\n",
              "    <tr>\n",
              "      <th>12</th>\n",
              "      <td>1976</td>\n",
              "      <td>ARIZONA</td>\n",
              "      <td>AZ</td>\n",
              "      <td>4</td>\n",
              "      <td>86</td>\n",
              "      <td>61</td>\n",
              "      <td>US PRESIDENT</td>\n",
              "      <td>CARTER, JIMMY</td>\n",
              "      <td>DEMOCRAT</td>\n",
              "      <td>False</td>\n",
              "      <td>295602</td>\n",
              "      <td>742719</td>\n",
              "      <td>20210113</td>\n",
              "      <td>NaN</td>\n",
              "      <td>DEMOCRAT</td>\n",
              "    </tr>\n",
              "    <tr>\n",
              "      <th>13</th>\n",
              "      <td>1976</td>\n",
              "      <td>ARIZONA</td>\n",
              "      <td>AZ</td>\n",
              "      <td>4</td>\n",
              "      <td>86</td>\n",
              "      <td>61</td>\n",
              "      <td>US PRESIDENT</td>\n",
              "      <td>MCCARTHY, EUGENE \"\"GENE\"\"</td>\n",
              "      <td>INDEPENDENT</td>\n",
              "      <td>False</td>\n",
              "      <td>19229</td>\n",
              "      <td>742719</td>\n",
              "      <td>20210113</td>\n",
              "      <td>NaN</td>\n",
              "      <td>OTHER</td>\n",
              "    </tr>\n",
              "    <tr>\n",
              "      <th>14</th>\n",
              "      <td>1976</td>\n",
              "      <td>ARIZONA</td>\n",
              "      <td>AZ</td>\n",
              "      <td>4</td>\n",
              "      <td>86</td>\n",
              "      <td>61</td>\n",
              "      <td>US PRESIDENT</td>\n",
              "      <td>MACBRIDE, ROGER</td>\n",
              "      <td>LIBERTARIAN</td>\n",
              "      <td>False</td>\n",
              "      <td>7647</td>\n",
              "      <td>742719</td>\n",
              "      <td>20210113</td>\n",
              "      <td>NaN</td>\n",
              "      <td>LIBERTARIAN</td>\n",
              "    </tr>\n",
              "    <tr>\n",
              "      <th>15</th>\n",
              "      <td>1976</td>\n",
              "      <td>ARIZONA</td>\n",
              "      <td>AZ</td>\n",
              "      <td>4</td>\n",
              "      <td>86</td>\n",
              "      <td>61</td>\n",
              "      <td>US PRESIDENT</td>\n",
              "      <td>CAMEJO, PETER</td>\n",
              "      <td>SOCIALIST WORKERS</td>\n",
              "      <td>False</td>\n",
              "      <td>928</td>\n",
              "      <td>742719</td>\n",
              "      <td>20210113</td>\n",
              "      <td>NaN</td>\n",
              "      <td>OTHER</td>\n",
              "    </tr>\n",
              "    <tr>\n",
              "      <th>16</th>\n",
              "      <td>1976</td>\n",
              "      <td>ARIZONA</td>\n",
              "      <td>AZ</td>\n",
              "      <td>4</td>\n",
              "      <td>86</td>\n",
              "      <td>61</td>\n",
              "      <td>US PRESIDENT</td>\n",
              "      <td>ANDERSON, THOMAS J.</td>\n",
              "      <td>AMERICAN</td>\n",
              "      <td>False</td>\n",
              "      <td>564</td>\n",
              "      <td>742719</td>\n",
              "      <td>20210113</td>\n",
              "      <td>NaN</td>\n",
              "      <td>OTHER</td>\n",
              "    </tr>\n",
              "    <tr>\n",
              "      <th>17</th>\n",
              "      <td>1976</td>\n",
              "      <td>ARIZONA</td>\n",
              "      <td>AZ</td>\n",
              "      <td>4</td>\n",
              "      <td>86</td>\n",
              "      <td>61</td>\n",
              "      <td>US PRESIDENT</td>\n",
              "      <td>MADDOX, LESTER</td>\n",
              "      <td>AMERICAN INDEPENDENT PARTY</td>\n",
              "      <td>False</td>\n",
              "      <td>85</td>\n",
              "      <td>742719</td>\n",
              "      <td>20210113</td>\n",
              "      <td>NaN</td>\n",
              "      <td>OTHER</td>\n",
              "    </tr>\n",
              "    <tr>\n",
              "      <th>18</th>\n",
              "      <td>1976</td>\n",
              "      <td>ARIZONA</td>\n",
              "      <td>AZ</td>\n",
              "      <td>4</td>\n",
              "      <td>86</td>\n",
              "      <td>61</td>\n",
              "      <td>US PRESIDENT</td>\n",
              "      <td>NaN</td>\n",
              "      <td>NaN</td>\n",
              "      <td>True</td>\n",
              "      <td>22</td>\n",
              "      <td>742719</td>\n",
              "      <td>20210113</td>\n",
              "      <td>NaN</td>\n",
              "      <td>OTHER</td>\n",
              "    </tr>\n",
              "    <tr>\n",
              "      <th>19</th>\n",
              "      <td>1976</td>\n",
              "      <td>ARKANSAS</td>\n",
              "      <td>AR</td>\n",
              "      <td>5</td>\n",
              "      <td>71</td>\n",
              "      <td>42</td>\n",
              "      <td>US PRESIDENT</td>\n",
              "      <td>CARTER, JIMMY</td>\n",
              "      <td>DEMOCRAT</td>\n",
              "      <td>False</td>\n",
              "      <td>498604</td>\n",
              "      <td>767535</td>\n",
              "      <td>20210113</td>\n",
              "      <td>NaN</td>\n",
              "      <td>DEMOCRAT</td>\n",
              "    </tr>\n",
              "  </tbody>\n",
              "</table>\n",
              "</div>\n",
              "    <div class=\"colab-df-buttons\">\n",
              "\n",
              "  <div class=\"colab-df-container\">\n",
              "    <button class=\"colab-df-convert\" onclick=\"convertToInteractive('df-2e905ce6-c42a-40d8-876f-bcc4c3a02bff')\"\n",
              "            title=\"Convert this dataframe to an interactive table.\"\n",
              "            style=\"display:none;\">\n",
              "\n",
              "  <svg xmlns=\"http://www.w3.org/2000/svg\" height=\"24px\" viewBox=\"0 -960 960 960\">\n",
              "    <path d=\"M120-120v-720h720v720H120Zm60-500h600v-160H180v160Zm220 220h160v-160H400v160Zm0 220h160v-160H400v160ZM180-400h160v-160H180v160Zm440 0h160v-160H620v160ZM180-180h160v-160H180v160Zm440 0h160v-160H620v160Z\"/>\n",
              "  </svg>\n",
              "    </button>\n",
              "\n",
              "  <style>\n",
              "    .colab-df-container {\n",
              "      display:flex;\n",
              "      gap: 12px;\n",
              "    }\n",
              "\n",
              "    .colab-df-convert {\n",
              "      background-color: #E8F0FE;\n",
              "      border: none;\n",
              "      border-radius: 50%;\n",
              "      cursor: pointer;\n",
              "      display: none;\n",
              "      fill: #1967D2;\n",
              "      height: 32px;\n",
              "      padding: 0 0 0 0;\n",
              "      width: 32px;\n",
              "    }\n",
              "\n",
              "    .colab-df-convert:hover {\n",
              "      background-color: #E2EBFA;\n",
              "      box-shadow: 0px 1px 2px rgba(60, 64, 67, 0.3), 0px 1px 3px 1px rgba(60, 64, 67, 0.15);\n",
              "      fill: #174EA6;\n",
              "    }\n",
              "\n",
              "    .colab-df-buttons div {\n",
              "      margin-bottom: 4px;\n",
              "    }\n",
              "\n",
              "    [theme=dark] .colab-df-convert {\n",
              "      background-color: #3B4455;\n",
              "      fill: #D2E3FC;\n",
              "    }\n",
              "\n",
              "    [theme=dark] .colab-df-convert:hover {\n",
              "      background-color: #434B5C;\n",
              "      box-shadow: 0px 1px 3px 1px rgba(0, 0, 0, 0.15);\n",
              "      filter: drop-shadow(0px 1px 2px rgba(0, 0, 0, 0.3));\n",
              "      fill: #FFFFFF;\n",
              "    }\n",
              "  </style>\n",
              "\n",
              "    <script>\n",
              "      const buttonEl =\n",
              "        document.querySelector('#df-2e905ce6-c42a-40d8-876f-bcc4c3a02bff button.colab-df-convert');\n",
              "      buttonEl.style.display =\n",
              "        google.colab.kernel.accessAllowed ? 'block' : 'none';\n",
              "\n",
              "      async function convertToInteractive(key) {\n",
              "        const element = document.querySelector('#df-2e905ce6-c42a-40d8-876f-bcc4c3a02bff');\n",
              "        const dataTable =\n",
              "          await google.colab.kernel.invokeFunction('convertToInteractive',\n",
              "                                                    [key], {});\n",
              "        if (!dataTable) return;\n",
              "\n",
              "        const docLinkHtml = 'Like what you see? Visit the ' +\n",
              "          '<a target=\"_blank\" href=https://colab.research.google.com/notebooks/data_table.ipynb>data table notebook</a>'\n",
              "          + ' to learn more about interactive tables.';\n",
              "        element.innerHTML = '';\n",
              "        dataTable['output_type'] = 'display_data';\n",
              "        await google.colab.output.renderOutput(dataTable, element);\n",
              "        const docLink = document.createElement('div');\n",
              "        docLink.innerHTML = docLinkHtml;\n",
              "        element.appendChild(docLink);\n",
              "      }\n",
              "    </script>\n",
              "  </div>\n",
              "\n",
              "\n",
              "<div id=\"df-e3d07372-e0e3-4a67-bdc0-d643824ada20\">\n",
              "  <button class=\"colab-df-quickchart\" onclick=\"quickchart('df-e3d07372-e0e3-4a67-bdc0-d643824ada20')\"\n",
              "            title=\"Suggest charts\"\n",
              "            style=\"display:none;\">\n",
              "\n",
              "<svg xmlns=\"http://www.w3.org/2000/svg\" height=\"24px\"viewBox=\"0 0 24 24\"\n",
              "     width=\"24px\">\n",
              "    <g>\n",
              "        <path d=\"M19 3H5c-1.1 0-2 .9-2 2v14c0 1.1.9 2 2 2h14c1.1 0 2-.9 2-2V5c0-1.1-.9-2-2-2zM9 17H7v-7h2v7zm4 0h-2V7h2v10zm4 0h-2v-4h2v4z\"/>\n",
              "    </g>\n",
              "</svg>\n",
              "  </button>\n",
              "\n",
              "<style>\n",
              "  .colab-df-quickchart {\n",
              "      --bg-color: #E8F0FE;\n",
              "      --fill-color: #1967D2;\n",
              "      --hover-bg-color: #E2EBFA;\n",
              "      --hover-fill-color: #174EA6;\n",
              "      --disabled-fill-color: #AAA;\n",
              "      --disabled-bg-color: #DDD;\n",
              "  }\n",
              "\n",
              "  [theme=dark] .colab-df-quickchart {\n",
              "      --bg-color: #3B4455;\n",
              "      --fill-color: #D2E3FC;\n",
              "      --hover-bg-color: #434B5C;\n",
              "      --hover-fill-color: #FFFFFF;\n",
              "      --disabled-bg-color: #3B4455;\n",
              "      --disabled-fill-color: #666;\n",
              "  }\n",
              "\n",
              "  .colab-df-quickchart {\n",
              "    background-color: var(--bg-color);\n",
              "    border: none;\n",
              "    border-radius: 50%;\n",
              "    cursor: pointer;\n",
              "    display: none;\n",
              "    fill: var(--fill-color);\n",
              "    height: 32px;\n",
              "    padding: 0;\n",
              "    width: 32px;\n",
              "  }\n",
              "\n",
              "  .colab-df-quickchart:hover {\n",
              "    background-color: var(--hover-bg-color);\n",
              "    box-shadow: 0 1px 2px rgba(60, 64, 67, 0.3), 0 1px 3px 1px rgba(60, 64, 67, 0.15);\n",
              "    fill: var(--button-hover-fill-color);\n",
              "  }\n",
              "\n",
              "  .colab-df-quickchart-complete:disabled,\n",
              "  .colab-df-quickchart-complete:disabled:hover {\n",
              "    background-color: var(--disabled-bg-color);\n",
              "    fill: var(--disabled-fill-color);\n",
              "    box-shadow: none;\n",
              "  }\n",
              "\n",
              "  .colab-df-spinner {\n",
              "    border: 2px solid var(--fill-color);\n",
              "    border-color: transparent;\n",
              "    border-bottom-color: var(--fill-color);\n",
              "    animation:\n",
              "      spin 1s steps(1) infinite;\n",
              "  }\n",
              "\n",
              "  @keyframes spin {\n",
              "    0% {\n",
              "      border-color: transparent;\n",
              "      border-bottom-color: var(--fill-color);\n",
              "      border-left-color: var(--fill-color);\n",
              "    }\n",
              "    20% {\n",
              "      border-color: transparent;\n",
              "      border-left-color: var(--fill-color);\n",
              "      border-top-color: var(--fill-color);\n",
              "    }\n",
              "    30% {\n",
              "      border-color: transparent;\n",
              "      border-left-color: var(--fill-color);\n",
              "      border-top-color: var(--fill-color);\n",
              "      border-right-color: var(--fill-color);\n",
              "    }\n",
              "    40% {\n",
              "      border-color: transparent;\n",
              "      border-right-color: var(--fill-color);\n",
              "      border-top-color: var(--fill-color);\n",
              "    }\n",
              "    60% {\n",
              "      border-color: transparent;\n",
              "      border-right-color: var(--fill-color);\n",
              "    }\n",
              "    80% {\n",
              "      border-color: transparent;\n",
              "      border-right-color: var(--fill-color);\n",
              "      border-bottom-color: var(--fill-color);\n",
              "    }\n",
              "    90% {\n",
              "      border-color: transparent;\n",
              "      border-bottom-color: var(--fill-color);\n",
              "    }\n",
              "  }\n",
              "</style>\n",
              "\n",
              "  <script>\n",
              "    async function quickchart(key) {\n",
              "      const quickchartButtonEl =\n",
              "        document.querySelector('#' + key + ' button');\n",
              "      quickchartButtonEl.disabled = true;  // To prevent multiple clicks.\n",
              "      quickchartButtonEl.classList.add('colab-df-spinner');\n",
              "      try {\n",
              "        const charts = await google.colab.kernel.invokeFunction(\n",
              "            'suggestCharts', [key], {});\n",
              "      } catch (error) {\n",
              "        console.error('Error during call to suggestCharts:', error);\n",
              "      }\n",
              "      quickchartButtonEl.classList.remove('colab-df-spinner');\n",
              "      quickchartButtonEl.classList.add('colab-df-quickchart-complete');\n",
              "    }\n",
              "    (() => {\n",
              "      let quickchartButtonEl =\n",
              "        document.querySelector('#df-e3d07372-e0e3-4a67-bdc0-d643824ada20 button');\n",
              "      quickchartButtonEl.style.display =\n",
              "        google.colab.kernel.accessAllowed ? 'block' : 'none';\n",
              "    })();\n",
              "  </script>\n",
              "</div>\n",
              "    </div>\n",
              "  </div>\n"
            ],
            "application/vnd.google.colaboratory.intrinsic+json": {
              "type": "dataframe",
              "variable_name": "df",
              "summary": "{\n  \"name\": \"df\",\n  \"rows\": 20,\n  \"fields\": [\n    {\n      \"column\": \"year\",\n      \"properties\": {\n        \"dtype\": \"number\",\n        \"std\": 0,\n        \"min\": 1976,\n        \"max\": 1976,\n        \"num_unique_values\": 1,\n        \"samples\": [\n          1976\n        ],\n        \"semantic_type\": \"\",\n        \"description\": \"\"\n      }\n    },\n    {\n      \"column\": \"state\",\n      \"properties\": {\n        \"dtype\": \"category\",\n        \"num_unique_values\": 4,\n        \"samples\": [\n          \"ALASKA\"\n        ],\n        \"semantic_type\": \"\",\n        \"description\": \"\"\n      }\n    },\n    {\n      \"column\": \"state_po\",\n      \"properties\": {\n        \"dtype\": \"category\",\n        \"num_unique_values\": 4,\n        \"samples\": [\n          \"AK\"\n        ],\n        \"semantic_type\": \"\",\n        \"description\": \"\"\n      }\n    },\n    {\n      \"column\": \"state_fips\",\n      \"properties\": {\n        \"dtype\": \"number\",\n        \"std\": 1,\n        \"min\": 1,\n        \"max\": 5,\n        \"num_unique_values\": 4,\n        \"samples\": [\n          2\n        ],\n        \"semantic_type\": \"\",\n        \"description\": \"\"\n      }\n    },\n    {\n      \"column\": \"state_cen\",\n      \"properties\": {\n        \"dtype\": \"number\",\n        \"std\": 12,\n        \"min\": 63,\n        \"max\": 94,\n        \"num_unique_values\": 4,\n        \"samples\": [\n          94\n        ],\n        \"semantic_type\": \"\",\n        \"description\": \"\"\n      }\n    },\n    {\n      \"column\": \"state_ic\",\n      \"properties\": {\n        \"dtype\": \"number\",\n        \"std\": 15,\n        \"min\": 41,\n        \"max\": 81,\n        \"num_unique_values\": 4,\n        \"samples\": [\n          81\n        ],\n        \"semantic_type\": \"\",\n        \"description\": \"\"\n      }\n    },\n    {\n      \"column\": \"office\",\n      \"properties\": {\n        \"dtype\": \"category\",\n        \"num_unique_values\": 1,\n        \"samples\": [\n          \"US PRESIDENT\"\n        ],\n        \"semantic_type\": \"\",\n        \"description\": \"\"\n      }\n    },\n    {\n      \"column\": \"candidate\",\n      \"properties\": {\n        \"dtype\": \"category\",\n        \"num_unique_values\": 9,\n        \"samples\": [\n          \"CAMEJO, PETER\"\n        ],\n        \"semantic_type\": \"\",\n        \"description\": \"\"\n      }\n    },\n    {\n      \"column\": \"party_detailed\",\n      \"properties\": {\n        \"dtype\": \"category\",\n        \"num_unique_values\": 9,\n        \"samples\": [\n          \"SOCIALIST WORKERS\"\n        ],\n        \"semantic_type\": \"\",\n        \"description\": \"\"\n      }\n    },\n    {\n      \"column\": \"writein\",\n      \"properties\": {\n        \"dtype\": \"boolean\",\n        \"num_unique_values\": 2,\n        \"samples\": [\n          true\n        ],\n        \"semantic_type\": \"\",\n        \"description\": \"\"\n      }\n    },\n    {\n      \"column\": \"candidatevotes\",\n      \"properties\": {\n        \"dtype\": \"number\",\n        \"std\": 215572,\n        \"min\": 22,\n        \"max\": 659170,\n        \"num_unique_values\": 20,\n        \"samples\": [\n          659170\n        ],\n        \"semantic_type\": \"\",\n        \"description\": \"\"\n      }\n    },\n    {\n      \"column\": \"totalvotes\",\n      \"properties\": {\n        \"dtype\": \"number\",\n        \"std\": 388667,\n        \"min\": 123574,\n        \"max\": 1182850,\n        \"num_unique_values\": 4,\n        \"samples\": [\n          123574\n        ],\n        \"semantic_type\": \"\",\n        \"description\": \"\"\n      }\n    },\n    {\n      \"column\": \"version\",\n      \"properties\": {\n        \"dtype\": \"number\",\n        \"std\": 0,\n        \"min\": 20210113,\n        \"max\": 20210113,\n        \"num_unique_values\": 1,\n        \"samples\": [\n          20210113\n        ],\n        \"semantic_type\": \"\",\n        \"description\": \"\"\n      }\n    },\n    {\n      \"column\": \"notes\",\n      \"properties\": {\n        \"dtype\": \"number\",\n        \"std\": null,\n        \"min\": null,\n        \"max\": null,\n        \"num_unique_values\": 0,\n        \"samples\": [],\n        \"semantic_type\": \"\",\n        \"description\": \"\"\n      }\n    },\n    {\n      \"column\": \"party_simplified\",\n      \"properties\": {\n        \"dtype\": \"category\",\n        \"num_unique_values\": 4,\n        \"samples\": [],\n        \"semantic_type\": \"\",\n        \"description\": \"\"\n      }\n    }\n  ]\n}"
            }
          },
          "metadata": {},
          "execution_count": 12
        }
      ]
    },
    {
      "cell_type": "code",
      "source": [
        "from google.colab import data_table\n",
        "data_table.enable_dataframe_formatter()\n",
        "\n",
        "df"
      ],
      "metadata": {
        "colab": {
          "base_uri": "https://localhost:8080/",
          "height": 924
        },
        "id": "mq9WptB8ERpc",
        "outputId": "7eee5dc3-e48e-4059-f5ed-faee4de6d5b9"
      },
      "execution_count": 13,
      "outputs": [
        {
          "output_type": "execute_result",
          "data": {
            "text/plain": [
              "    year     state state_po  state_fips  state_cen  state_ic        office  \\\n",
              "0   1976   ALABAMA       AL           1         63        41  US PRESIDENT   \n",
              "1   1976   ALABAMA       AL           1         63        41  US PRESIDENT   \n",
              "2   1976   ALABAMA       AL           1         63        41  US PRESIDENT   \n",
              "3   1976   ALABAMA       AL           1         63        41  US PRESIDENT   \n",
              "4   1976   ALABAMA       AL           1         63        41  US PRESIDENT   \n",
              "5   1976   ALABAMA       AL           1         63        41  US PRESIDENT   \n",
              "6   1976   ALABAMA       AL           1         63        41  US PRESIDENT   \n",
              "7   1976    ALASKA       AK           2         94        81  US PRESIDENT   \n",
              "8   1976    ALASKA       AK           2         94        81  US PRESIDENT   \n",
              "9   1976    ALASKA       AK           2         94        81  US PRESIDENT   \n",
              "10  1976    ALASKA       AK           2         94        81  US PRESIDENT   \n",
              "11  1976   ARIZONA       AZ           4         86        61  US PRESIDENT   \n",
              "12  1976   ARIZONA       AZ           4         86        61  US PRESIDENT   \n",
              "13  1976   ARIZONA       AZ           4         86        61  US PRESIDENT   \n",
              "14  1976   ARIZONA       AZ           4         86        61  US PRESIDENT   \n",
              "15  1976   ARIZONA       AZ           4         86        61  US PRESIDENT   \n",
              "16  1976   ARIZONA       AZ           4         86        61  US PRESIDENT   \n",
              "17  1976   ARIZONA       AZ           4         86        61  US PRESIDENT   \n",
              "18  1976   ARIZONA       AZ           4         86        61  US PRESIDENT   \n",
              "19  1976  ARKANSAS       AR           5         71        42  US PRESIDENT   \n",
              "\n",
              "                    candidate              party_detailed  writein  \\\n",
              "0               CARTER, JIMMY                    DEMOCRAT    False   \n",
              "1                FORD, GERALD                  REPUBLICAN    False   \n",
              "2              MADDOX, LESTER  AMERICAN INDEPENDENT PARTY    False   \n",
              "3     BUBAR, BENJAMIN \"\"BEN\"\"                 PROHIBITION    False   \n",
              "4                   HALL, GUS         COMMUNIST PARTY USE    False   \n",
              "5             MACBRIDE, ROGER                 LIBERTARIAN    False   \n",
              "6                         NaN                         NaN     True   \n",
              "7                FORD, GERALD                  REPUBLICAN    False   \n",
              "8               CARTER, JIMMY                    DEMOCRAT    False   \n",
              "9             MACBRIDE, ROGER                 LIBERTARIAN    False   \n",
              "10                        NaN                         NaN     True   \n",
              "11               FORD, GERALD                  REPUBLICAN    False   \n",
              "12              CARTER, JIMMY                    DEMOCRAT    False   \n",
              "13  MCCARTHY, EUGENE \"\"GENE\"\"                 INDEPENDENT    False   \n",
              "14            MACBRIDE, ROGER                 LIBERTARIAN    False   \n",
              "15              CAMEJO, PETER           SOCIALIST WORKERS    False   \n",
              "16        ANDERSON, THOMAS J.                    AMERICAN    False   \n",
              "17             MADDOX, LESTER  AMERICAN INDEPENDENT PARTY    False   \n",
              "18                        NaN                         NaN     True   \n",
              "19              CARTER, JIMMY                    DEMOCRAT    False   \n",
              "\n",
              "    candidatevotes  totalvotes   version  notes party_simplified  \n",
              "0           659170     1182850  20210113    NaN         DEMOCRAT  \n",
              "1           504070     1182850  20210113    NaN       REPUBLICAN  \n",
              "2             9198     1182850  20210113    NaN            OTHER  \n",
              "3             6669     1182850  20210113    NaN            OTHER  \n",
              "4             1954     1182850  20210113    NaN            OTHER  \n",
              "5             1481     1182850  20210113    NaN      LIBERTARIAN  \n",
              "6              308     1182850  20210113    NaN            OTHER  \n",
              "7            71555      123574  20210113    NaN       REPUBLICAN  \n",
              "8            44058      123574  20210113    NaN         DEMOCRAT  \n",
              "9             6785      123574  20210113    NaN      LIBERTARIAN  \n",
              "10            1176      123574  20210113    NaN            OTHER  \n",
              "11          418642      742719  20210113    NaN       REPUBLICAN  \n",
              "12          295602      742719  20210113    NaN         DEMOCRAT  \n",
              "13           19229      742719  20210113    NaN            OTHER  \n",
              "14            7647      742719  20210113    NaN      LIBERTARIAN  \n",
              "15             928      742719  20210113    NaN            OTHER  \n",
              "16             564      742719  20210113    NaN            OTHER  \n",
              "17              85      742719  20210113    NaN            OTHER  \n",
              "18              22      742719  20210113    NaN            OTHER  \n",
              "19          498604      767535  20210113    NaN         DEMOCRAT  "
            ],
            "text/html": [
              "\n",
              "  <div id=\"df-5cf2e38d-48f4-49de-92fe-b07d2c3dac4c\" class=\"colab-df-container\">\n",
              "    <div>\n",
              "<style scoped>\n",
              "    .dataframe tbody tr th:only-of-type {\n",
              "        vertical-align: middle;\n",
              "    }\n",
              "\n",
              "    .dataframe tbody tr th {\n",
              "        vertical-align: top;\n",
              "    }\n",
              "\n",
              "    .dataframe thead th {\n",
              "        text-align: right;\n",
              "    }\n",
              "</style>\n",
              "<table border=\"1\" class=\"dataframe\">\n",
              "  <thead>\n",
              "    <tr style=\"text-align: right;\">\n",
              "      <th></th>\n",
              "      <th>year</th>\n",
              "      <th>state</th>\n",
              "      <th>state_po</th>\n",
              "      <th>state_fips</th>\n",
              "      <th>state_cen</th>\n",
              "      <th>state_ic</th>\n",
              "      <th>office</th>\n",
              "      <th>candidate</th>\n",
              "      <th>party_detailed</th>\n",
              "      <th>writein</th>\n",
              "      <th>candidatevotes</th>\n",
              "      <th>totalvotes</th>\n",
              "      <th>version</th>\n",
              "      <th>notes</th>\n",
              "      <th>party_simplified</th>\n",
              "    </tr>\n",
              "  </thead>\n",
              "  <tbody>\n",
              "    <tr>\n",
              "      <th>0</th>\n",
              "      <td>1976</td>\n",
              "      <td>ALABAMA</td>\n",
              "      <td>AL</td>\n",
              "      <td>1</td>\n",
              "      <td>63</td>\n",
              "      <td>41</td>\n",
              "      <td>US PRESIDENT</td>\n",
              "      <td>CARTER, JIMMY</td>\n",
              "      <td>DEMOCRAT</td>\n",
              "      <td>False</td>\n",
              "      <td>659170</td>\n",
              "      <td>1182850</td>\n",
              "      <td>20210113</td>\n",
              "      <td>NaN</td>\n",
              "      <td>DEMOCRAT</td>\n",
              "    </tr>\n",
              "    <tr>\n",
              "      <th>1</th>\n",
              "      <td>1976</td>\n",
              "      <td>ALABAMA</td>\n",
              "      <td>AL</td>\n",
              "      <td>1</td>\n",
              "      <td>63</td>\n",
              "      <td>41</td>\n",
              "      <td>US PRESIDENT</td>\n",
              "      <td>FORD, GERALD</td>\n",
              "      <td>REPUBLICAN</td>\n",
              "      <td>False</td>\n",
              "      <td>504070</td>\n",
              "      <td>1182850</td>\n",
              "      <td>20210113</td>\n",
              "      <td>NaN</td>\n",
              "      <td>REPUBLICAN</td>\n",
              "    </tr>\n",
              "    <tr>\n",
              "      <th>2</th>\n",
              "      <td>1976</td>\n",
              "      <td>ALABAMA</td>\n",
              "      <td>AL</td>\n",
              "      <td>1</td>\n",
              "      <td>63</td>\n",
              "      <td>41</td>\n",
              "      <td>US PRESIDENT</td>\n",
              "      <td>MADDOX, LESTER</td>\n",
              "      <td>AMERICAN INDEPENDENT PARTY</td>\n",
              "      <td>False</td>\n",
              "      <td>9198</td>\n",
              "      <td>1182850</td>\n",
              "      <td>20210113</td>\n",
              "      <td>NaN</td>\n",
              "      <td>OTHER</td>\n",
              "    </tr>\n",
              "    <tr>\n",
              "      <th>3</th>\n",
              "      <td>1976</td>\n",
              "      <td>ALABAMA</td>\n",
              "      <td>AL</td>\n",
              "      <td>1</td>\n",
              "      <td>63</td>\n",
              "      <td>41</td>\n",
              "      <td>US PRESIDENT</td>\n",
              "      <td>BUBAR, BENJAMIN \"\"BEN\"\"</td>\n",
              "      <td>PROHIBITION</td>\n",
              "      <td>False</td>\n",
              "      <td>6669</td>\n",
              "      <td>1182850</td>\n",
              "      <td>20210113</td>\n",
              "      <td>NaN</td>\n",
              "      <td>OTHER</td>\n",
              "    </tr>\n",
              "    <tr>\n",
              "      <th>4</th>\n",
              "      <td>1976</td>\n",
              "      <td>ALABAMA</td>\n",
              "      <td>AL</td>\n",
              "      <td>1</td>\n",
              "      <td>63</td>\n",
              "      <td>41</td>\n",
              "      <td>US PRESIDENT</td>\n",
              "      <td>HALL, GUS</td>\n",
              "      <td>COMMUNIST PARTY USE</td>\n",
              "      <td>False</td>\n",
              "      <td>1954</td>\n",
              "      <td>1182850</td>\n",
              "      <td>20210113</td>\n",
              "      <td>NaN</td>\n",
              "      <td>OTHER</td>\n",
              "    </tr>\n",
              "    <tr>\n",
              "      <th>5</th>\n",
              "      <td>1976</td>\n",
              "      <td>ALABAMA</td>\n",
              "      <td>AL</td>\n",
              "      <td>1</td>\n",
              "      <td>63</td>\n",
              "      <td>41</td>\n",
              "      <td>US PRESIDENT</td>\n",
              "      <td>MACBRIDE, ROGER</td>\n",
              "      <td>LIBERTARIAN</td>\n",
              "      <td>False</td>\n",
              "      <td>1481</td>\n",
              "      <td>1182850</td>\n",
              "      <td>20210113</td>\n",
              "      <td>NaN</td>\n",
              "      <td>LIBERTARIAN</td>\n",
              "    </tr>\n",
              "    <tr>\n",
              "      <th>6</th>\n",
              "      <td>1976</td>\n",
              "      <td>ALABAMA</td>\n",
              "      <td>AL</td>\n",
              "      <td>1</td>\n",
              "      <td>63</td>\n",
              "      <td>41</td>\n",
              "      <td>US PRESIDENT</td>\n",
              "      <td>NaN</td>\n",
              "      <td>NaN</td>\n",
              "      <td>True</td>\n",
              "      <td>308</td>\n",
              "      <td>1182850</td>\n",
              "      <td>20210113</td>\n",
              "      <td>NaN</td>\n",
              "      <td>OTHER</td>\n",
              "    </tr>\n",
              "    <tr>\n",
              "      <th>7</th>\n",
              "      <td>1976</td>\n",
              "      <td>ALASKA</td>\n",
              "      <td>AK</td>\n",
              "      <td>2</td>\n",
              "      <td>94</td>\n",
              "      <td>81</td>\n",
              "      <td>US PRESIDENT</td>\n",
              "      <td>FORD, GERALD</td>\n",
              "      <td>REPUBLICAN</td>\n",
              "      <td>False</td>\n",
              "      <td>71555</td>\n",
              "      <td>123574</td>\n",
              "      <td>20210113</td>\n",
              "      <td>NaN</td>\n",
              "      <td>REPUBLICAN</td>\n",
              "    </tr>\n",
              "    <tr>\n",
              "      <th>8</th>\n",
              "      <td>1976</td>\n",
              "      <td>ALASKA</td>\n",
              "      <td>AK</td>\n",
              "      <td>2</td>\n",
              "      <td>94</td>\n",
              "      <td>81</td>\n",
              "      <td>US PRESIDENT</td>\n",
              "      <td>CARTER, JIMMY</td>\n",
              "      <td>DEMOCRAT</td>\n",
              "      <td>False</td>\n",
              "      <td>44058</td>\n",
              "      <td>123574</td>\n",
              "      <td>20210113</td>\n",
              "      <td>NaN</td>\n",
              "      <td>DEMOCRAT</td>\n",
              "    </tr>\n",
              "    <tr>\n",
              "      <th>9</th>\n",
              "      <td>1976</td>\n",
              "      <td>ALASKA</td>\n",
              "      <td>AK</td>\n",
              "      <td>2</td>\n",
              "      <td>94</td>\n",
              "      <td>81</td>\n",
              "      <td>US PRESIDENT</td>\n",
              "      <td>MACBRIDE, ROGER</td>\n",
              "      <td>LIBERTARIAN</td>\n",
              "      <td>False</td>\n",
              "      <td>6785</td>\n",
              "      <td>123574</td>\n",
              "      <td>20210113</td>\n",
              "      <td>NaN</td>\n",
              "      <td>LIBERTARIAN</td>\n",
              "    </tr>\n",
              "    <tr>\n",
              "      <th>10</th>\n",
              "      <td>1976</td>\n",
              "      <td>ALASKA</td>\n",
              "      <td>AK</td>\n",
              "      <td>2</td>\n",
              "      <td>94</td>\n",
              "      <td>81</td>\n",
              "      <td>US PRESIDENT</td>\n",
              "      <td>NaN</td>\n",
              "      <td>NaN</td>\n",
              "      <td>True</td>\n",
              "      <td>1176</td>\n",
              "      <td>123574</td>\n",
              "      <td>20210113</td>\n",
              "      <td>NaN</td>\n",
              "      <td>OTHER</td>\n",
              "    </tr>\n",
              "    <tr>\n",
              "      <th>11</th>\n",
              "      <td>1976</td>\n",
              "      <td>ARIZONA</td>\n",
              "      <td>AZ</td>\n",
              "      <td>4</td>\n",
              "      <td>86</td>\n",
              "      <td>61</td>\n",
              "      <td>US PRESIDENT</td>\n",
              "      <td>FORD, GERALD</td>\n",
              "      <td>REPUBLICAN</td>\n",
              "      <td>False</td>\n",
              "      <td>418642</td>\n",
              "      <td>742719</td>\n",
              "      <td>20210113</td>\n",
              "      <td>NaN</td>\n",
              "      <td>REPUBLICAN</td>\n",
              "    </tr>\n",
              "    <tr>\n",
              "      <th>12</th>\n",
              "      <td>1976</td>\n",
              "      <td>ARIZONA</td>\n",
              "      <td>AZ</td>\n",
              "      <td>4</td>\n",
              "      <td>86</td>\n",
              "      <td>61</td>\n",
              "      <td>US PRESIDENT</td>\n",
              "      <td>CARTER, JIMMY</td>\n",
              "      <td>DEMOCRAT</td>\n",
              "      <td>False</td>\n",
              "      <td>295602</td>\n",
              "      <td>742719</td>\n",
              "      <td>20210113</td>\n",
              "      <td>NaN</td>\n",
              "      <td>DEMOCRAT</td>\n",
              "    </tr>\n",
              "    <tr>\n",
              "      <th>13</th>\n",
              "      <td>1976</td>\n",
              "      <td>ARIZONA</td>\n",
              "      <td>AZ</td>\n",
              "      <td>4</td>\n",
              "      <td>86</td>\n",
              "      <td>61</td>\n",
              "      <td>US PRESIDENT</td>\n",
              "      <td>MCCARTHY, EUGENE \"\"GENE\"\"</td>\n",
              "      <td>INDEPENDENT</td>\n",
              "      <td>False</td>\n",
              "      <td>19229</td>\n",
              "      <td>742719</td>\n",
              "      <td>20210113</td>\n",
              "      <td>NaN</td>\n",
              "      <td>OTHER</td>\n",
              "    </tr>\n",
              "    <tr>\n",
              "      <th>14</th>\n",
              "      <td>1976</td>\n",
              "      <td>ARIZONA</td>\n",
              "      <td>AZ</td>\n",
              "      <td>4</td>\n",
              "      <td>86</td>\n",
              "      <td>61</td>\n",
              "      <td>US PRESIDENT</td>\n",
              "      <td>MACBRIDE, ROGER</td>\n",
              "      <td>LIBERTARIAN</td>\n",
              "      <td>False</td>\n",
              "      <td>7647</td>\n",
              "      <td>742719</td>\n",
              "      <td>20210113</td>\n",
              "      <td>NaN</td>\n",
              "      <td>LIBERTARIAN</td>\n",
              "    </tr>\n",
              "    <tr>\n",
              "      <th>15</th>\n",
              "      <td>1976</td>\n",
              "      <td>ARIZONA</td>\n",
              "      <td>AZ</td>\n",
              "      <td>4</td>\n",
              "      <td>86</td>\n",
              "      <td>61</td>\n",
              "      <td>US PRESIDENT</td>\n",
              "      <td>CAMEJO, PETER</td>\n",
              "      <td>SOCIALIST WORKERS</td>\n",
              "      <td>False</td>\n",
              "      <td>928</td>\n",
              "      <td>742719</td>\n",
              "      <td>20210113</td>\n",
              "      <td>NaN</td>\n",
              "      <td>OTHER</td>\n",
              "    </tr>\n",
              "    <tr>\n",
              "      <th>16</th>\n",
              "      <td>1976</td>\n",
              "      <td>ARIZONA</td>\n",
              "      <td>AZ</td>\n",
              "      <td>4</td>\n",
              "      <td>86</td>\n",
              "      <td>61</td>\n",
              "      <td>US PRESIDENT</td>\n",
              "      <td>ANDERSON, THOMAS J.</td>\n",
              "      <td>AMERICAN</td>\n",
              "      <td>False</td>\n",
              "      <td>564</td>\n",
              "      <td>742719</td>\n",
              "      <td>20210113</td>\n",
              "      <td>NaN</td>\n",
              "      <td>OTHER</td>\n",
              "    </tr>\n",
              "    <tr>\n",
              "      <th>17</th>\n",
              "      <td>1976</td>\n",
              "      <td>ARIZONA</td>\n",
              "      <td>AZ</td>\n",
              "      <td>4</td>\n",
              "      <td>86</td>\n",
              "      <td>61</td>\n",
              "      <td>US PRESIDENT</td>\n",
              "      <td>MADDOX, LESTER</td>\n",
              "      <td>AMERICAN INDEPENDENT PARTY</td>\n",
              "      <td>False</td>\n",
              "      <td>85</td>\n",
              "      <td>742719</td>\n",
              "      <td>20210113</td>\n",
              "      <td>NaN</td>\n",
              "      <td>OTHER</td>\n",
              "    </tr>\n",
              "    <tr>\n",
              "      <th>18</th>\n",
              "      <td>1976</td>\n",
              "      <td>ARIZONA</td>\n",
              "      <td>AZ</td>\n",
              "      <td>4</td>\n",
              "      <td>86</td>\n",
              "      <td>61</td>\n",
              "      <td>US PRESIDENT</td>\n",
              "      <td>NaN</td>\n",
              "      <td>NaN</td>\n",
              "      <td>True</td>\n",
              "      <td>22</td>\n",
              "      <td>742719</td>\n",
              "      <td>20210113</td>\n",
              "      <td>NaN</td>\n",
              "      <td>OTHER</td>\n",
              "    </tr>\n",
              "    <tr>\n",
              "      <th>19</th>\n",
              "      <td>1976</td>\n",
              "      <td>ARKANSAS</td>\n",
              "      <td>AR</td>\n",
              "      <td>5</td>\n",
              "      <td>71</td>\n",
              "      <td>42</td>\n",
              "      <td>US PRESIDENT</td>\n",
              "      <td>CARTER, JIMMY</td>\n",
              "      <td>DEMOCRAT</td>\n",
              "      <td>False</td>\n",
              "      <td>498604</td>\n",
              "      <td>767535</td>\n",
              "      <td>20210113</td>\n",
              "      <td>NaN</td>\n",
              "      <td>DEMOCRAT</td>\n",
              "    </tr>\n",
              "  </tbody>\n",
              "</table>\n",
              "</div>\n",
              "    <div class=\"colab-df-buttons\">\n",
              "\n",
              "  <div class=\"colab-df-container\">\n",
              "    <button class=\"colab-df-convert\" onclick=\"convertToInteractive('df-5cf2e38d-48f4-49de-92fe-b07d2c3dac4c')\"\n",
              "            title=\"Convert this dataframe to an interactive table.\"\n",
              "            style=\"display:none;\">\n",
              "\n",
              "  <svg xmlns=\"http://www.w3.org/2000/svg\" height=\"24px\" viewBox=\"0 -960 960 960\">\n",
              "    <path d=\"M120-120v-720h720v720H120Zm60-500h600v-160H180v160Zm220 220h160v-160H400v160Zm0 220h160v-160H400v160ZM180-400h160v-160H180v160Zm440 0h160v-160H620v160ZM180-180h160v-160H180v160Zm440 0h160v-160H620v160Z\"/>\n",
              "  </svg>\n",
              "    </button>\n",
              "\n",
              "  <style>\n",
              "    .colab-df-container {\n",
              "      display:flex;\n",
              "      gap: 12px;\n",
              "    }\n",
              "\n",
              "    .colab-df-convert {\n",
              "      background-color: #E8F0FE;\n",
              "      border: none;\n",
              "      border-radius: 50%;\n",
              "      cursor: pointer;\n",
              "      display: none;\n",
              "      fill: #1967D2;\n",
              "      height: 32px;\n",
              "      padding: 0 0 0 0;\n",
              "      width: 32px;\n",
              "    }\n",
              "\n",
              "    .colab-df-convert:hover {\n",
              "      background-color: #E2EBFA;\n",
              "      box-shadow: 0px 1px 2px rgba(60, 64, 67, 0.3), 0px 1px 3px 1px rgba(60, 64, 67, 0.15);\n",
              "      fill: #174EA6;\n",
              "    }\n",
              "\n",
              "    .colab-df-buttons div {\n",
              "      margin-bottom: 4px;\n",
              "    }\n",
              "\n",
              "    [theme=dark] .colab-df-convert {\n",
              "      background-color: #3B4455;\n",
              "      fill: #D2E3FC;\n",
              "    }\n",
              "\n",
              "    [theme=dark] .colab-df-convert:hover {\n",
              "      background-color: #434B5C;\n",
              "      box-shadow: 0px 1px 3px 1px rgba(0, 0, 0, 0.15);\n",
              "      filter: drop-shadow(0px 1px 2px rgba(0, 0, 0, 0.3));\n",
              "      fill: #FFFFFF;\n",
              "    }\n",
              "  </style>\n",
              "\n",
              "    <script>\n",
              "      const buttonEl =\n",
              "        document.querySelector('#df-5cf2e38d-48f4-49de-92fe-b07d2c3dac4c button.colab-df-convert');\n",
              "      buttonEl.style.display =\n",
              "        google.colab.kernel.accessAllowed ? 'block' : 'none';\n",
              "\n",
              "      async function convertToInteractive(key) {\n",
              "        const element = document.querySelector('#df-5cf2e38d-48f4-49de-92fe-b07d2c3dac4c');\n",
              "        const dataTable =\n",
              "          await google.colab.kernel.invokeFunction('convertToInteractive',\n",
              "                                                    [key], {});\n",
              "        if (!dataTable) return;\n",
              "\n",
              "        const docLinkHtml = 'Like what you see? Visit the ' +\n",
              "          '<a target=\"_blank\" href=https://colab.research.google.com/notebooks/data_table.ipynb>data table notebook</a>'\n",
              "          + ' to learn more about interactive tables.';\n",
              "        element.innerHTML = '';\n",
              "        dataTable['output_type'] = 'display_data';\n",
              "        await google.colab.output.renderOutput(dataTable, element);\n",
              "        const docLink = document.createElement('div');\n",
              "        docLink.innerHTML = docLinkHtml;\n",
              "        element.appendChild(docLink);\n",
              "      }\n",
              "    </script>\n",
              "  </div>\n",
              "\n",
              "\n",
              "<div id=\"df-95d02689-bb95-4ba2-9abe-17a4c1dd758b\">\n",
              "  <button class=\"colab-df-quickchart\" onclick=\"quickchart('df-95d02689-bb95-4ba2-9abe-17a4c1dd758b')\"\n",
              "            title=\"Suggest charts\"\n",
              "            style=\"display:none;\">\n",
              "\n",
              "<svg xmlns=\"http://www.w3.org/2000/svg\" height=\"24px\"viewBox=\"0 0 24 24\"\n",
              "     width=\"24px\">\n",
              "    <g>\n",
              "        <path d=\"M19 3H5c-1.1 0-2 .9-2 2v14c0 1.1.9 2 2 2h14c1.1 0 2-.9 2-2V5c0-1.1-.9-2-2-2zM9 17H7v-7h2v7zm4 0h-2V7h2v10zm4 0h-2v-4h2v4z\"/>\n",
              "    </g>\n",
              "</svg>\n",
              "  </button>\n",
              "\n",
              "<style>\n",
              "  .colab-df-quickchart {\n",
              "      --bg-color: #E8F0FE;\n",
              "      --fill-color: #1967D2;\n",
              "      --hover-bg-color: #E2EBFA;\n",
              "      --hover-fill-color: #174EA6;\n",
              "      --disabled-fill-color: #AAA;\n",
              "      --disabled-bg-color: #DDD;\n",
              "  }\n",
              "\n",
              "  [theme=dark] .colab-df-quickchart {\n",
              "      --bg-color: #3B4455;\n",
              "      --fill-color: #D2E3FC;\n",
              "      --hover-bg-color: #434B5C;\n",
              "      --hover-fill-color: #FFFFFF;\n",
              "      --disabled-bg-color: #3B4455;\n",
              "      --disabled-fill-color: #666;\n",
              "  }\n",
              "\n",
              "  .colab-df-quickchart {\n",
              "    background-color: var(--bg-color);\n",
              "    border: none;\n",
              "    border-radius: 50%;\n",
              "    cursor: pointer;\n",
              "    display: none;\n",
              "    fill: var(--fill-color);\n",
              "    height: 32px;\n",
              "    padding: 0;\n",
              "    width: 32px;\n",
              "  }\n",
              "\n",
              "  .colab-df-quickchart:hover {\n",
              "    background-color: var(--hover-bg-color);\n",
              "    box-shadow: 0 1px 2px rgba(60, 64, 67, 0.3), 0 1px 3px 1px rgba(60, 64, 67, 0.15);\n",
              "    fill: var(--button-hover-fill-color);\n",
              "  }\n",
              "\n",
              "  .colab-df-quickchart-complete:disabled,\n",
              "  .colab-df-quickchart-complete:disabled:hover {\n",
              "    background-color: var(--disabled-bg-color);\n",
              "    fill: var(--disabled-fill-color);\n",
              "    box-shadow: none;\n",
              "  }\n",
              "\n",
              "  .colab-df-spinner {\n",
              "    border: 2px solid var(--fill-color);\n",
              "    border-color: transparent;\n",
              "    border-bottom-color: var(--fill-color);\n",
              "    animation:\n",
              "      spin 1s steps(1) infinite;\n",
              "  }\n",
              "\n",
              "  @keyframes spin {\n",
              "    0% {\n",
              "      border-color: transparent;\n",
              "      border-bottom-color: var(--fill-color);\n",
              "      border-left-color: var(--fill-color);\n",
              "    }\n",
              "    20% {\n",
              "      border-color: transparent;\n",
              "      border-left-color: var(--fill-color);\n",
              "      border-top-color: var(--fill-color);\n",
              "    }\n",
              "    30% {\n",
              "      border-color: transparent;\n",
              "      border-left-color: var(--fill-color);\n",
              "      border-top-color: var(--fill-color);\n",
              "      border-right-color: var(--fill-color);\n",
              "    }\n",
              "    40% {\n",
              "      border-color: transparent;\n",
              "      border-right-color: var(--fill-color);\n",
              "      border-top-color: var(--fill-color);\n",
              "    }\n",
              "    60% {\n",
              "      border-color: transparent;\n",
              "      border-right-color: var(--fill-color);\n",
              "    }\n",
              "    80% {\n",
              "      border-color: transparent;\n",
              "      border-right-color: var(--fill-color);\n",
              "      border-bottom-color: var(--fill-color);\n",
              "    }\n",
              "    90% {\n",
              "      border-color: transparent;\n",
              "      border-bottom-color: var(--fill-color);\n",
              "    }\n",
              "  }\n",
              "</style>\n",
              "\n",
              "  <script>\n",
              "    async function quickchart(key) {\n",
              "      const quickchartButtonEl =\n",
              "        document.querySelector('#' + key + ' button');\n",
              "      quickchartButtonEl.disabled = true;  // To prevent multiple clicks.\n",
              "      quickchartButtonEl.classList.add('colab-df-spinner');\n",
              "      try {\n",
              "        const charts = await google.colab.kernel.invokeFunction(\n",
              "            'suggestCharts', [key], {});\n",
              "      } catch (error) {\n",
              "        console.error('Error during call to suggestCharts:', error);\n",
              "      }\n",
              "      quickchartButtonEl.classList.remove('colab-df-spinner');\n",
              "      quickchartButtonEl.classList.add('colab-df-quickchart-complete');\n",
              "    }\n",
              "    (() => {\n",
              "      let quickchartButtonEl =\n",
              "        document.querySelector('#df-95d02689-bb95-4ba2-9abe-17a4c1dd758b button');\n",
              "      quickchartButtonEl.style.display =\n",
              "        google.colab.kernel.accessAllowed ? 'block' : 'none';\n",
              "    })();\n",
              "  </script>\n",
              "</div>\n",
              "    </div>\n",
              "  </div>\n"
            ],
            "application/vnd.google.colaboratory.intrinsic+json": {
              "type": "dataframe",
              "variable_name": "df",
              "summary": "{\n  \"name\": \"df\",\n  \"rows\": 20,\n  \"fields\": [\n    {\n      \"column\": \"year\",\n      \"properties\": {\n        \"dtype\": \"number\",\n        \"std\": 0,\n        \"min\": 1976,\n        \"max\": 1976,\n        \"num_unique_values\": 1,\n        \"samples\": [\n          1976\n        ],\n        \"semantic_type\": \"\",\n        \"description\": \"\"\n      }\n    },\n    {\n      \"column\": \"state\",\n      \"properties\": {\n        \"dtype\": \"category\",\n        \"num_unique_values\": 4,\n        \"samples\": [\n          \"ALASKA\"\n        ],\n        \"semantic_type\": \"\",\n        \"description\": \"\"\n      }\n    },\n    {\n      \"column\": \"state_po\",\n      \"properties\": {\n        \"dtype\": \"category\",\n        \"num_unique_values\": 4,\n        \"samples\": [\n          \"AK\"\n        ],\n        \"semantic_type\": \"\",\n        \"description\": \"\"\n      }\n    },\n    {\n      \"column\": \"state_fips\",\n      \"properties\": {\n        \"dtype\": \"number\",\n        \"std\": 1,\n        \"min\": 1,\n        \"max\": 5,\n        \"num_unique_values\": 4,\n        \"samples\": [\n          2\n        ],\n        \"semantic_type\": \"\",\n        \"description\": \"\"\n      }\n    },\n    {\n      \"column\": \"state_cen\",\n      \"properties\": {\n        \"dtype\": \"number\",\n        \"std\": 12,\n        \"min\": 63,\n        \"max\": 94,\n        \"num_unique_values\": 4,\n        \"samples\": [\n          94\n        ],\n        \"semantic_type\": \"\",\n        \"description\": \"\"\n      }\n    },\n    {\n      \"column\": \"state_ic\",\n      \"properties\": {\n        \"dtype\": \"number\",\n        \"std\": 15,\n        \"min\": 41,\n        \"max\": 81,\n        \"num_unique_values\": 4,\n        \"samples\": [\n          81\n        ],\n        \"semantic_type\": \"\",\n        \"description\": \"\"\n      }\n    },\n    {\n      \"column\": \"office\",\n      \"properties\": {\n        \"dtype\": \"category\",\n        \"num_unique_values\": 1,\n        \"samples\": [\n          \"US PRESIDENT\"\n        ],\n        \"semantic_type\": \"\",\n        \"description\": \"\"\n      }\n    },\n    {\n      \"column\": \"candidate\",\n      \"properties\": {\n        \"dtype\": \"category\",\n        \"num_unique_values\": 9,\n        \"samples\": [\n          \"CAMEJO, PETER\"\n        ],\n        \"semantic_type\": \"\",\n        \"description\": \"\"\n      }\n    },\n    {\n      \"column\": \"party_detailed\",\n      \"properties\": {\n        \"dtype\": \"category\",\n        \"num_unique_values\": 9,\n        \"samples\": [\n          \"SOCIALIST WORKERS\"\n        ],\n        \"semantic_type\": \"\",\n        \"description\": \"\"\n      }\n    },\n    {\n      \"column\": \"writein\",\n      \"properties\": {\n        \"dtype\": \"boolean\",\n        \"num_unique_values\": 2,\n        \"samples\": [\n          true\n        ],\n        \"semantic_type\": \"\",\n        \"description\": \"\"\n      }\n    },\n    {\n      \"column\": \"candidatevotes\",\n      \"properties\": {\n        \"dtype\": \"number\",\n        \"std\": 215572,\n        \"min\": 22,\n        \"max\": 659170,\n        \"num_unique_values\": 20,\n        \"samples\": [\n          659170\n        ],\n        \"semantic_type\": \"\",\n        \"description\": \"\"\n      }\n    },\n    {\n      \"column\": \"totalvotes\",\n      \"properties\": {\n        \"dtype\": \"number\",\n        \"std\": 388667,\n        \"min\": 123574,\n        \"max\": 1182850,\n        \"num_unique_values\": 4,\n        \"samples\": [\n          123574\n        ],\n        \"semantic_type\": \"\",\n        \"description\": \"\"\n      }\n    },\n    {\n      \"column\": \"version\",\n      \"properties\": {\n        \"dtype\": \"number\",\n        \"std\": 0,\n        \"min\": 20210113,\n        \"max\": 20210113,\n        \"num_unique_values\": 1,\n        \"samples\": [\n          20210113\n        ],\n        \"semantic_type\": \"\",\n        \"description\": \"\"\n      }\n    },\n    {\n      \"column\": \"notes\",\n      \"properties\": {\n        \"dtype\": \"number\",\n        \"std\": null,\n        \"min\": null,\n        \"max\": null,\n        \"num_unique_values\": 0,\n        \"samples\": [],\n        \"semantic_type\": \"\",\n        \"description\": \"\"\n      }\n    },\n    {\n      \"column\": \"party_simplified\",\n      \"properties\": {\n        \"dtype\": \"category\",\n        \"num_unique_values\": 4,\n        \"samples\": [],\n        \"semantic_type\": \"\",\n        \"description\": \"\"\n      }\n    }\n  ]\n}"
            },
            "application/vnd.google.colaboratory.module+javascript": "\n      import \"https://ssl.gstatic.com/colaboratory/data_table/881c4a0d49046431/data_table.js\";\n\n      const table = window.createDataTable({\n        data: [[{\n            'v': 0,\n            'f': \"0\",\n        },\n{\n            'v': 1976,\n            'f': \"1976\",\n        },\n\"ALABAMA\",\n\"AL\",\n{\n            'v': 1,\n            'f': \"1\",\n        },\n{\n            'v': 63,\n            'f': \"63\",\n        },\n{\n            'v': 41,\n            'f': \"41\",\n        },\n\"US PRESIDENT\",\n\"CARTER, JIMMY\",\n\"DEMOCRAT\",\nfalse,\n{\n            'v': 659170,\n            'f': \"659170\",\n        },\n{\n            'v': 1182850,\n            'f': \"1182850\",\n        },\n{\n            'v': 20210113,\n            'f': \"20210113\",\n        },\n{\n            'v': NaN,\n            'f': \"NaN\",\n        },\n\"DEMOCRAT\"],\n [{\n            'v': 1,\n            'f': \"1\",\n        },\n{\n            'v': 1976,\n            'f': \"1976\",\n        },\n\"ALABAMA\",\n\"AL\",\n{\n            'v': 1,\n            'f': \"1\",\n        },\n{\n            'v': 63,\n            'f': \"63\",\n        },\n{\n            'v': 41,\n            'f': \"41\",\n        },\n\"US PRESIDENT\",\n\"FORD, GERALD\",\n\"REPUBLICAN\",\nfalse,\n{\n            'v': 504070,\n            'f': \"504070\",\n        },\n{\n            'v': 1182850,\n            'f': \"1182850\",\n        },\n{\n            'v': 20210113,\n            'f': \"20210113\",\n        },\n{\n            'v': NaN,\n            'f': \"NaN\",\n        },\n\"REPUBLICAN\"],\n [{\n            'v': 2,\n            'f': \"2\",\n        },\n{\n            'v': 1976,\n            'f': \"1976\",\n        },\n\"ALABAMA\",\n\"AL\",\n{\n            'v': 1,\n            'f': \"1\",\n        },\n{\n            'v': 63,\n            'f': \"63\",\n        },\n{\n            'v': 41,\n            'f': \"41\",\n        },\n\"US PRESIDENT\",\n\"MADDOX, LESTER\",\n\"AMERICAN INDEPENDENT PARTY\",\nfalse,\n{\n            'v': 9198,\n            'f': \"9198\",\n        },\n{\n            'v': 1182850,\n            'f': \"1182850\",\n        },\n{\n            'v': 20210113,\n            'f': \"20210113\",\n        },\n{\n            'v': NaN,\n            'f': \"NaN\",\n        },\n\"OTHER\"],\n [{\n            'v': 3,\n            'f': \"3\",\n        },\n{\n            'v': 1976,\n            'f': \"1976\",\n        },\n\"ALABAMA\",\n\"AL\",\n{\n            'v': 1,\n            'f': \"1\",\n        },\n{\n            'v': 63,\n            'f': \"63\",\n        },\n{\n            'v': 41,\n            'f': \"41\",\n        },\n\"US PRESIDENT\",\n\"BUBAR, BENJAMIN \\\"\\\"BEN\\\"\\\"\",\n\"PROHIBITION\",\nfalse,\n{\n            'v': 6669,\n            'f': \"6669\",\n        },\n{\n            'v': 1182850,\n            'f': \"1182850\",\n        },\n{\n            'v': 20210113,\n            'f': \"20210113\",\n        },\n{\n            'v': NaN,\n            'f': \"NaN\",\n        },\n\"OTHER\"],\n [{\n            'v': 4,\n            'f': \"4\",\n        },\n{\n            'v': 1976,\n            'f': \"1976\",\n        },\n\"ALABAMA\",\n\"AL\",\n{\n            'v': 1,\n            'f': \"1\",\n        },\n{\n            'v': 63,\n            'f': \"63\",\n        },\n{\n            'v': 41,\n            'f': \"41\",\n        },\n\"US PRESIDENT\",\n\"HALL, GUS\",\n\"COMMUNIST PARTY USE\",\nfalse,\n{\n            'v': 1954,\n            'f': \"1954\",\n        },\n{\n            'v': 1182850,\n            'f': \"1182850\",\n        },\n{\n            'v': 20210113,\n            'f': \"20210113\",\n        },\n{\n            'v': NaN,\n            'f': \"NaN\",\n        },\n\"OTHER\"],\n [{\n            'v': 5,\n            'f': \"5\",\n        },\n{\n            'v': 1976,\n            'f': \"1976\",\n        },\n\"ALABAMA\",\n\"AL\",\n{\n            'v': 1,\n            'f': \"1\",\n        },\n{\n            'v': 63,\n            'f': \"63\",\n        },\n{\n            'v': 41,\n            'f': \"41\",\n        },\n\"US PRESIDENT\",\n\"MACBRIDE, ROGER\",\n\"LIBERTARIAN\",\nfalse,\n{\n            'v': 1481,\n            'f': \"1481\",\n        },\n{\n            'v': 1182850,\n            'f': \"1182850\",\n        },\n{\n            'v': 20210113,\n            'f': \"20210113\",\n        },\n{\n            'v': NaN,\n            'f': \"NaN\",\n        },\n\"LIBERTARIAN\"],\n [{\n            'v': 6,\n            'f': \"6\",\n        },\n{\n            'v': 1976,\n            'f': \"1976\",\n        },\n\"ALABAMA\",\n\"AL\",\n{\n            'v': 1,\n            'f': \"1\",\n        },\n{\n            'v': 63,\n            'f': \"63\",\n        },\n{\n            'v': 41,\n            'f': \"41\",\n        },\n\"US PRESIDENT\",\nNaN,\nNaN,\ntrue,\n{\n            'v': 308,\n            'f': \"308\",\n        },\n{\n            'v': 1182850,\n            'f': \"1182850\",\n        },\n{\n            'v': 20210113,\n            'f': \"20210113\",\n        },\n{\n            'v': NaN,\n            'f': \"NaN\",\n        },\n\"OTHER\"],\n [{\n            'v': 7,\n            'f': \"7\",\n        },\n{\n            'v': 1976,\n            'f': \"1976\",\n        },\n\"ALASKA\",\n\"AK\",\n{\n            'v': 2,\n            'f': \"2\",\n        },\n{\n            'v': 94,\n            'f': \"94\",\n        },\n{\n            'v': 81,\n            'f': \"81\",\n        },\n\"US PRESIDENT\",\n\"FORD, GERALD\",\n\"REPUBLICAN\",\nfalse,\n{\n            'v': 71555,\n            'f': \"71555\",\n        },\n{\n            'v': 123574,\n            'f': \"123574\",\n        },\n{\n            'v': 20210113,\n            'f': \"20210113\",\n        },\n{\n            'v': NaN,\n            'f': \"NaN\",\n        },\n\"REPUBLICAN\"],\n [{\n            'v': 8,\n            'f': \"8\",\n        },\n{\n            'v': 1976,\n            'f': \"1976\",\n        },\n\"ALASKA\",\n\"AK\",\n{\n            'v': 2,\n            'f': \"2\",\n        },\n{\n            'v': 94,\n            'f': \"94\",\n        },\n{\n            'v': 81,\n            'f': \"81\",\n        },\n\"US PRESIDENT\",\n\"CARTER, JIMMY\",\n\"DEMOCRAT\",\nfalse,\n{\n            'v': 44058,\n            'f': \"44058\",\n        },\n{\n            'v': 123574,\n            'f': \"123574\",\n        },\n{\n            'v': 20210113,\n            'f': \"20210113\",\n        },\n{\n            'v': NaN,\n            'f': \"NaN\",\n        },\n\"DEMOCRAT\"],\n [{\n            'v': 9,\n            'f': \"9\",\n        },\n{\n            'v': 1976,\n            'f': \"1976\",\n        },\n\"ALASKA\",\n\"AK\",\n{\n            'v': 2,\n            'f': \"2\",\n        },\n{\n            'v': 94,\n            'f': \"94\",\n        },\n{\n            'v': 81,\n            'f': \"81\",\n        },\n\"US PRESIDENT\",\n\"MACBRIDE, ROGER\",\n\"LIBERTARIAN\",\nfalse,\n{\n            'v': 6785,\n            'f': \"6785\",\n        },\n{\n            'v': 123574,\n            'f': \"123574\",\n        },\n{\n            'v': 20210113,\n            'f': \"20210113\",\n        },\n{\n            'v': NaN,\n            'f': \"NaN\",\n        },\n\"LIBERTARIAN\"],\n [{\n            'v': 10,\n            'f': \"10\",\n        },\n{\n            'v': 1976,\n            'f': \"1976\",\n        },\n\"ALASKA\",\n\"AK\",\n{\n            'v': 2,\n            'f': \"2\",\n        },\n{\n            'v': 94,\n            'f': \"94\",\n        },\n{\n            'v': 81,\n            'f': \"81\",\n        },\n\"US PRESIDENT\",\nNaN,\nNaN,\ntrue,\n{\n            'v': 1176,\n            'f': \"1176\",\n        },\n{\n            'v': 123574,\n            'f': \"123574\",\n        },\n{\n            'v': 20210113,\n            'f': \"20210113\",\n        },\n{\n            'v': NaN,\n            'f': \"NaN\",\n        },\n\"OTHER\"],\n [{\n            'v': 11,\n            'f': \"11\",\n        },\n{\n            'v': 1976,\n            'f': \"1976\",\n        },\n\"ARIZONA\",\n\"AZ\",\n{\n            'v': 4,\n            'f': \"4\",\n        },\n{\n            'v': 86,\n            'f': \"86\",\n        },\n{\n            'v': 61,\n            'f': \"61\",\n        },\n\"US PRESIDENT\",\n\"FORD, GERALD\",\n\"REPUBLICAN\",\nfalse,\n{\n            'v': 418642,\n            'f': \"418642\",\n        },\n{\n            'v': 742719,\n            'f': \"742719\",\n        },\n{\n            'v': 20210113,\n            'f': \"20210113\",\n        },\n{\n            'v': NaN,\n            'f': \"NaN\",\n        },\n\"REPUBLICAN\"],\n [{\n            'v': 12,\n            'f': \"12\",\n        },\n{\n            'v': 1976,\n            'f': \"1976\",\n        },\n\"ARIZONA\",\n\"AZ\",\n{\n            'v': 4,\n            'f': \"4\",\n        },\n{\n            'v': 86,\n            'f': \"86\",\n        },\n{\n            'v': 61,\n            'f': \"61\",\n        },\n\"US PRESIDENT\",\n\"CARTER, JIMMY\",\n\"DEMOCRAT\",\nfalse,\n{\n            'v': 295602,\n            'f': \"295602\",\n        },\n{\n            'v': 742719,\n            'f': \"742719\",\n        },\n{\n            'v': 20210113,\n            'f': \"20210113\",\n        },\n{\n            'v': NaN,\n            'f': \"NaN\",\n        },\n\"DEMOCRAT\"],\n [{\n            'v': 13,\n            'f': \"13\",\n        },\n{\n            'v': 1976,\n            'f': \"1976\",\n        },\n\"ARIZONA\",\n\"AZ\",\n{\n            'v': 4,\n            'f': \"4\",\n        },\n{\n            'v': 86,\n            'f': \"86\",\n        },\n{\n            'v': 61,\n            'f': \"61\",\n        },\n\"US PRESIDENT\",\n\"MCCARTHY, EUGENE \\\"\\\"GENE\\\"\\\"\",\n\"INDEPENDENT\",\nfalse,\n{\n            'v': 19229,\n            'f': \"19229\",\n        },\n{\n            'v': 742719,\n            'f': \"742719\",\n        },\n{\n            'v': 20210113,\n            'f': \"20210113\",\n        },\n{\n            'v': NaN,\n            'f': \"NaN\",\n        },\n\"OTHER\"],\n [{\n            'v': 14,\n            'f': \"14\",\n        },\n{\n            'v': 1976,\n            'f': \"1976\",\n        },\n\"ARIZONA\",\n\"AZ\",\n{\n            'v': 4,\n            'f': \"4\",\n        },\n{\n            'v': 86,\n            'f': \"86\",\n        },\n{\n            'v': 61,\n            'f': \"61\",\n        },\n\"US PRESIDENT\",\n\"MACBRIDE, ROGER\",\n\"LIBERTARIAN\",\nfalse,\n{\n            'v': 7647,\n            'f': \"7647\",\n        },\n{\n            'v': 742719,\n            'f': \"742719\",\n        },\n{\n            'v': 20210113,\n            'f': \"20210113\",\n        },\n{\n            'v': NaN,\n            'f': \"NaN\",\n        },\n\"LIBERTARIAN\"],\n [{\n            'v': 15,\n            'f': \"15\",\n        },\n{\n            'v': 1976,\n            'f': \"1976\",\n        },\n\"ARIZONA\",\n\"AZ\",\n{\n            'v': 4,\n            'f': \"4\",\n        },\n{\n            'v': 86,\n            'f': \"86\",\n        },\n{\n            'v': 61,\n            'f': \"61\",\n        },\n\"US PRESIDENT\",\n\"CAMEJO, PETER\",\n\"SOCIALIST WORKERS\",\nfalse,\n{\n            'v': 928,\n            'f': \"928\",\n        },\n{\n            'v': 742719,\n            'f': \"742719\",\n        },\n{\n            'v': 20210113,\n            'f': \"20210113\",\n        },\n{\n            'v': NaN,\n            'f': \"NaN\",\n        },\n\"OTHER\"],\n [{\n            'v': 16,\n            'f': \"16\",\n        },\n{\n            'v': 1976,\n            'f': \"1976\",\n        },\n\"ARIZONA\",\n\"AZ\",\n{\n            'v': 4,\n            'f': \"4\",\n        },\n{\n            'v': 86,\n            'f': \"86\",\n        },\n{\n            'v': 61,\n            'f': \"61\",\n        },\n\"US PRESIDENT\",\n\"ANDERSON, THOMAS J.\",\n\"AMERICAN\",\nfalse,\n{\n            'v': 564,\n            'f': \"564\",\n        },\n{\n            'v': 742719,\n            'f': \"742719\",\n        },\n{\n            'v': 20210113,\n            'f': \"20210113\",\n        },\n{\n            'v': NaN,\n            'f': \"NaN\",\n        },\n\"OTHER\"],\n [{\n            'v': 17,\n            'f': \"17\",\n        },\n{\n            'v': 1976,\n            'f': \"1976\",\n        },\n\"ARIZONA\",\n\"AZ\",\n{\n            'v': 4,\n            'f': \"4\",\n        },\n{\n            'v': 86,\n            'f': \"86\",\n        },\n{\n            'v': 61,\n            'f': \"61\",\n        },\n\"US PRESIDENT\",\n\"MADDOX, LESTER\",\n\"AMERICAN INDEPENDENT PARTY\",\nfalse,\n{\n            'v': 85,\n            'f': \"85\",\n        },\n{\n            'v': 742719,\n            'f': \"742719\",\n        },\n{\n            'v': 20210113,\n            'f': \"20210113\",\n        },\n{\n            'v': NaN,\n            'f': \"NaN\",\n        },\n\"OTHER\"],\n [{\n            'v': 18,\n            'f': \"18\",\n        },\n{\n            'v': 1976,\n            'f': \"1976\",\n        },\n\"ARIZONA\",\n\"AZ\",\n{\n            'v': 4,\n            'f': \"4\",\n        },\n{\n            'v': 86,\n            'f': \"86\",\n        },\n{\n            'v': 61,\n            'f': \"61\",\n        },\n\"US PRESIDENT\",\nNaN,\nNaN,\ntrue,\n{\n            'v': 22,\n            'f': \"22\",\n        },\n{\n            'v': 742719,\n            'f': \"742719\",\n        },\n{\n            'v': 20210113,\n            'f': \"20210113\",\n        },\n{\n            'v': NaN,\n            'f': \"NaN\",\n        },\n\"OTHER\"],\n [{\n            'v': 19,\n            'f': \"19\",\n        },\n{\n            'v': 1976,\n            'f': \"1976\",\n        },\n\"ARKANSAS\",\n\"AR\",\n{\n            'v': 5,\n            'f': \"5\",\n        },\n{\n            'v': 71,\n            'f': \"71\",\n        },\n{\n            'v': 42,\n            'f': \"42\",\n        },\n\"US PRESIDENT\",\n\"CARTER, JIMMY\",\n\"DEMOCRAT\",\nfalse,\n{\n            'v': 498604,\n            'f': \"498604\",\n        },\n{\n            'v': 767535,\n            'f': \"767535\",\n        },\n{\n            'v': 20210113,\n            'f': \"20210113\",\n        },\n{\n            'v': NaN,\n            'f': \"NaN\",\n        },\n\"DEMOCRAT\"]],\n        columns: [[\"number\", \"index\"], [\"number\", \"year\"], [\"string\", \"state\"], [\"string\", \"state_po\"], [\"number\", \"state_fips\"], [\"number\", \"state_cen\"], [\"number\", \"state_ic\"], [\"string\", \"office\"], [\"string\", \"candidate\"], [\"string\", \"party_detailed\"], [\"string\", \"writein\"], [\"number\", \"candidatevotes\"], [\"number\", \"totalvotes\"], [\"number\", \"version\"], [\"number\", \"notes\"], [\"string\", \"party_simplified\"]],\n        columnOptions: [{\"width\": \"1px\", \"className\": \"index_column\"}],\n        rowsPerPage: 25,\n        helpUrl: \"https://colab.research.google.com/notebooks/data_table.ipynb\",\n        suppressOutputScrolling: true,\n        minimumWidth: undefined,\n      });\n\n      function appendQuickchartButton(parentElement) {\n        let quickchartButtonContainerElement = document.createElement('div');\n        quickchartButtonContainerElement.innerHTML = `\n<div id=\"df-9479782c-6fd1-431d-94cb-f034997c9a31\">\n  <button class=\"colab-df-quickchart\" onclick=\"quickchart('df-9479782c-6fd1-431d-94cb-f034997c9a31')\"\n            title=\"Suggest charts\"\n            style=\"display:none;\">\n    \n<svg xmlns=\"http://www.w3.org/2000/svg\" height=\"24px\"viewBox=\"0 0 24 24\"\n     width=\"24px\">\n    <g>\n        <path d=\"M19 3H5c-1.1 0-2 .9-2 2v14c0 1.1.9 2 2 2h14c1.1 0 2-.9 2-2V5c0-1.1-.9-2-2-2zM9 17H7v-7h2v7zm4 0h-2V7h2v10zm4 0h-2v-4h2v4z\"/>\n    </g>\n</svg>\n  </button>\n  \n<style>\n  .colab-df-quickchart {\n      --bg-color: #E8F0FE;\n      --fill-color: #1967D2;\n      --hover-bg-color: #E2EBFA;\n      --hover-fill-color: #174EA6;\n      --disabled-fill-color: #AAA;\n      --disabled-bg-color: #DDD;\n  }\n\n  [theme=dark] .colab-df-quickchart {\n      --bg-color: #3B4455;\n      --fill-color: #D2E3FC;\n      --hover-bg-color: #434B5C;\n      --hover-fill-color: #FFFFFF;\n      --disabled-bg-color: #3B4455;\n      --disabled-fill-color: #666;\n  }\n\n  .colab-df-quickchart {\n    background-color: var(--bg-color);\n    border: none;\n    border-radius: 50%;\n    cursor: pointer;\n    display: none;\n    fill: var(--fill-color);\n    height: 32px;\n    padding: 0;\n    width: 32px;\n  }\n\n  .colab-df-quickchart:hover {\n    background-color: var(--hover-bg-color);\n    box-shadow: 0 1px 2px rgba(60, 64, 67, 0.3), 0 1px 3px 1px rgba(60, 64, 67, 0.15);\n    fill: var(--button-hover-fill-color);\n  }\n\n  .colab-df-quickchart-complete:disabled,\n  .colab-df-quickchart-complete:disabled:hover {\n    background-color: var(--disabled-bg-color);\n    fill: var(--disabled-fill-color);\n    box-shadow: none;\n  }\n\n  .colab-df-spinner {\n    border: 2px solid var(--fill-color);\n    border-color: transparent;\n    border-bottom-color: var(--fill-color);\n    animation:\n      spin 1s steps(1) infinite;\n  }\n\n  @keyframes spin {\n    0% {\n      border-color: transparent;\n      border-bottom-color: var(--fill-color);\n      border-left-color: var(--fill-color);\n    }\n    20% {\n      border-color: transparent;\n      border-left-color: var(--fill-color);\n      border-top-color: var(--fill-color);\n    }\n    30% {\n      border-color: transparent;\n      border-left-color: var(--fill-color);\n      border-top-color: var(--fill-color);\n      border-right-color: var(--fill-color);\n    }\n    40% {\n      border-color: transparent;\n      border-right-color: var(--fill-color);\n      border-top-color: var(--fill-color);\n    }\n    60% {\n      border-color: transparent;\n      border-right-color: var(--fill-color);\n    }\n    80% {\n      border-color: transparent;\n      border-right-color: var(--fill-color);\n      border-bottom-color: var(--fill-color);\n    }\n    90% {\n      border-color: transparent;\n      border-bottom-color: var(--fill-color);\n    }\n  }\n</style>\n\n  <script>\n    async function quickchart(key) {\n      const quickchartButtonEl =\n        document.querySelector('#' + key + ' button');\n      quickchartButtonEl.disabled = true;  // To prevent multiple clicks.\n      quickchartButtonEl.classList.add('colab-df-spinner');\n      try {\n        const charts = await google.colab.kernel.invokeFunction(\n            'suggestCharts', [key], {});\n      } catch (error) {\n        console.error('Error during call to suggestCharts:', error);\n      }\n      quickchartButtonEl.classList.remove('colab-df-spinner');\n      quickchartButtonEl.classList.add('colab-df-quickchart-complete');\n    }\n    (() => {\n      let quickchartButtonEl =\n        document.querySelector('#df-9479782c-6fd1-431d-94cb-f034997c9a31 button');\n      quickchartButtonEl.style.display =\n        google.colab.kernel.accessAllowed ? 'block' : 'none';\n    })();\n  </script>\n</div>`;\n        parentElement.appendChild(quickchartButtonContainerElement);\n      }\n\n      appendQuickchartButton(table);\n    "
          },
          "metadata": {},
          "execution_count": 13
        }
      ]
    },
    {
      "source": [
        "# @title party_simplified\n",
        "\n",
        "from matplotlib import pyplot as plt\n",
        "import seaborn as sns\n",
        "df.groupby('party_simplified').size().plot(kind='barh', color=sns.palettes.mpl_palette('Dark2'))\n",
        "plt.gca().spines[['top', 'right',]].set_visible(False)"
      ],
      "cell_type": "code",
      "execution_count": 11,
      "outputs": [
        {
          "output_type": "display_data",
          "data": {
            "text/plain": [
              "<Figure size 640x480 with 1 Axes>"
            ],
            "image/png": "[encoded data removed]"
          },
          "metadata": {}
        }
      ],
      "metadata": {
        "colab": {
          "base_uri": "https://localhost:8080/",
          "height": 430
        },
        "id": "SQf62Ja6DnAB",
        "outputId": "1fbbb3d7-f9ed-42f6-bcc3-1376c3b4b7ae"
      }
    },
    {
      "cell_type": "markdown",
      "metadata": {
        "id": "KVcnnQIDg27Z"
      },
      "source": [
        "## Snippet"
      ]
    },
    {
      "cell_type": "code",
      "execution_count": null,
      "metadata": {
        "id": "mFsFYaTbefDV"
      },
      "outputs": [],
      "source": [
        "# prebuilt and custom\n",
        "#Jupyter Widgets"
      ]
    },
    {
      "cell_type": "markdown",
      "source": [
        "## Github\n",
        "\n",
        "\n",
        "connect from setting"
      ],
      "metadata": {
        "id": "JTQFn5IXGIgX"
      }
    },
    {
      "cell_type": "code",
      "source": [],
      "metadata": {
        "id": "Ag1e56ZKGHeF"
      },
      "execution_count": null,
      "outputs": []
    },
    {
      "cell_type": "code",
      "execution_count": null,
      "metadata": {
        "id": "VHmMZtdJhxIY"
      },
      "outputs": [],
      "source": [
        "# prompt: write me a loop that iterates through a list called items and prints each item\n",
        "\n",
        "items = ['a', 'b', 'c', 'd', 'e']\n",
        "\n",
        "for item in items:\n",
        "  print(item)\n"
      ]
    },
    {
      "cell_type": "markdown",
      "metadata": {
        "id": "xqPIKbZzgR_y"
      },
      "source": [
        "## Extensions\n"
      ]
    },
    {
      "cell_type": "code",
      "execution_count": null,
      "metadata": {
        "id": "GbhTOgmDjMU6"
      },
      "outputs": [],
      "source": [
        "## Pets\n"
      ]
    },
    {
      "cell_type": "code",
      "execution_count": null,
      "metadata": {
        "colab": {
          "base_uri": "https://localhost:8080/",
          "height": 122
        },
        "id": "OCoP12SKkYo0",
        "outputId": "d24f0c34-bcbc-4640-f7ce-faf4701321f1"
      },
      "outputs": [
        {
          "ename": "SyntaxError",
          "evalue": "invalid syntax (<ipython-input-3-6334576dc146>, line 2)",
          "output_type": "error",
          "traceback": [
            "\u001b[0;36m  File \u001b[0;32m\"<ipython-input-3-6334576dc146>\"\u001b[0;36m, line \u001b[0;32m2\u001b[0m\n\u001b[0;31m    https://colab.research.google.com/github/google-gemini/cookbook/blob/main/examples/Market_a_Jet_Backpack.ipynb\u001b[0m\n\u001b[0m          ^\u001b[0m\n\u001b[0;31mSyntaxError\u001b[0m\u001b[0;31m:\u001b[0m invalid syntax\n"
          ]
        }
      ],
      "source": [
        "github, vscode, gemeni, notebookLM, kaggle\n",
        "https://colab.research.google.com/github/google-gemini/cookbook/blob/main/examples/Market_a_Jet_Backpack.ipynb\n"
      ]
    },
    {
      "cell_type": "code",
      "execution_count": null,
      "metadata": {
        "id": "Nbo-2gHLka_S"
      },
      "outputs": [],
      "source": []
    }
  ],
  "metadata": {
    "colab": {
      "provenance": [],
      "include_colab_link": true
    },
    "kernelspec": {
      "display_name": "Python 3",
      "name": "python3"
    }
  },
  "nbformat": 4,
  "nbformat_minor": 0
}